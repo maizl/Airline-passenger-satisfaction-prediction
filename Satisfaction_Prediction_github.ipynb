{
 "cells": [
  {
   "cell_type": "markdown",
   "id": "be381d1e",
   "metadata": {
    "id": "be381d1e"
   },
   "source": [
    "### Introduction\t\n",
    "An airline company surveyed their customer satisfaction rate for better improving their service quality and benefiting their business. In order to achieve better service quality for increasing customer retention and attracting more new customers, a model needs to be built to help understand how to meet the customers expection and get a better satisfaction rate.<br> This dataset from kaggle https://www.kaggle.com/datasets/binaryjoker/airline-passenger-satisfaction contains 129880 individual surveys with total 19 numeric variables and  5 categorical variables related to the customer and service properties. In the model, variable 'satisfaction' is selected as target variable, and other variables are predictor variables."
   ]
  },
  {
   "cell_type": "markdown",
   "id": "KB1uBbDi4JON",
   "metadata": {
    "id": "KB1uBbDi4JON"
   },
   "source": [
    "### Load the dataset of 'Airline Passenger Satisfaction' from Kaggle."
   ]
  },
  {
   "cell_type": "code",
   "execution_count": 1,
   "id": "29430b6f",
   "metadata": {
    "id": "29430b6f"
   },
   "outputs": [],
   "source": [
    "import numpy as np\n",
    "import pandas as pd\n",
    "import matplotlib.pyplot as plt\n",
    "import seaborn as sns\n",
    "import scipy\n",
    "import time\n",
    "from sklearn.model_selection import train_test_split\n",
    "from sklearn.model_selection import GridSearchCV\n",
    "from sklearn.preprocessing import normalize, StandardScaler\n",
    "\n",
    "from sklearn.ensemble import RandomForestClassifier, GradientBoostingClassifier\n",
    "from sklearn.neighbors import KNeighborsClassifier\n",
    "from sklearn.metrics import accuracy_score, precision_score, recall_score, f1_score\n",
    "\n",
    "%matplotlib inline"
   ]
  },
  {
   "cell_type": "code",
   "execution_count": null,
   "id": "8b5c7d8d",
   "metadata": {},
   "outputs": [],
   "source": [
    "df = pd.read_csv('airline_passenger_satisfaction.csv')"
   ]
  },
  {
   "cell_type": "markdown",
   "id": "f01d2995",
   "metadata": {
    "id": "f01d2995"
   },
   "source": [
    "### Data cleaning"
   ]
  },
  {
   "cell_type": "code",
   "execution_count": 3,
   "id": "f85ea0cd",
   "metadata": {
    "colab": {
     "base_uri": "https://localhost:8080/"
    },
    "id": "f85ea0cd",
    "outputId": "5aca10ea-e694-4c6c-f308-48de3b5f214c",
    "scrolled": false
   },
   "outputs": [
    {
     "name": "stdout",
     "output_type": "stream",
     "text": [
      "<class 'pandas.core.frame.DataFrame'>\n",
      "RangeIndex: 129880 entries, 0 to 129879\n",
      "Data columns (total 24 columns):\n",
      " #   Column                             Non-Null Count   Dtype  \n",
      "---  ------                             --------------   -----  \n",
      " 0   Unnamed: 0                         129880 non-null  int64  \n",
      " 1   Gender                             129880 non-null  object \n",
      " 2   customer_type                      129880 non-null  object \n",
      " 3   age                                129880 non-null  int64  \n",
      " 4   type_of_travel                     129880 non-null  object \n",
      " 5   customer_class                     129880 non-null  object \n",
      " 6   flight_distance                    129880 non-null  int64  \n",
      " 7   inflight_wifi_service              129880 non-null  int64  \n",
      " 8   departure_arrival_time_convenient  129880 non-null  int64  \n",
      " 9   ease_of_online_booking             129880 non-null  int64  \n",
      " 10  gate_location                      129880 non-null  int64  \n",
      " 11  food_and_drink                     129880 non-null  int64  \n",
      " 12  online_boarding                    129880 non-null  int64  \n",
      " 13  seat_comfort                       129880 non-null  int64  \n",
      " 14  inflight_entertainment             129880 non-null  int64  \n",
      " 15  onboard_service                    129880 non-null  int64  \n",
      " 16  leg_room_service                   129880 non-null  int64  \n",
      " 17  baggage_handling                   129880 non-null  int64  \n",
      " 18  checkin_service                    129880 non-null  int64  \n",
      " 19  inflight_service                   129880 non-null  int64  \n",
      " 20  cleanliness                        129880 non-null  int64  \n",
      " 21  departure_delay_in_minutes         129880 non-null  int64  \n",
      " 22  arrival_delay_in_minutes           129487 non-null  float64\n",
      " 23  satisfaction                       129880 non-null  object \n",
      "dtypes: float64(1), int64(18), object(5)\n",
      "memory usage: 23.8+ MB\n"
     ]
    }
   ],
   "source": [
    "df.info()"
   ]
  },
  {
   "cell_type": "code",
   "execution_count": 4,
   "id": "f1Mxz9wkSyMr",
   "metadata": {
    "colab": {
     "base_uri": "https://localhost:8080/",
     "height": 369
    },
    "id": "f1Mxz9wkSyMr",
    "outputId": "4a5da8f2-691e-410d-c8ca-d59865efde0e",
    "scrolled": false
   },
   "outputs": [
    {
     "data": {
      "text/html": [
       "\n",
       "  <div id=\"df-a68718a2-2b99-4dbc-b879-600c17682614\">\n",
       "    <div class=\"colab-df-container\">\n",
       "      <div>\n",
       "<style scoped>\n",
       "    .dataframe tbody tr th:only-of-type {\n",
       "        vertical-align: middle;\n",
       "    }\n",
       "\n",
       "    .dataframe tbody tr th {\n",
       "        vertical-align: top;\n",
       "    }\n",
       "\n",
       "    .dataframe thead th {\n",
       "        text-align: right;\n",
       "    }\n",
       "</style>\n",
       "<table border=\"1\" class=\"dataframe\">\n",
       "  <thead>\n",
       "    <tr style=\"text-align: right;\">\n",
       "      <th></th>\n",
       "      <th>Unnamed: 0</th>\n",
       "      <th>Gender</th>\n",
       "      <th>customer_type</th>\n",
       "      <th>age</th>\n",
       "      <th>type_of_travel</th>\n",
       "      <th>customer_class</th>\n",
       "      <th>flight_distance</th>\n",
       "      <th>inflight_wifi_service</th>\n",
       "      <th>departure_arrival_time_convenient</th>\n",
       "      <th>ease_of_online_booking</th>\n",
       "      <th>...</th>\n",
       "      <th>inflight_entertainment</th>\n",
       "      <th>onboard_service</th>\n",
       "      <th>leg_room_service</th>\n",
       "      <th>baggage_handling</th>\n",
       "      <th>checkin_service</th>\n",
       "      <th>inflight_service</th>\n",
       "      <th>cleanliness</th>\n",
       "      <th>departure_delay_in_minutes</th>\n",
       "      <th>arrival_delay_in_minutes</th>\n",
       "      <th>satisfaction</th>\n",
       "    </tr>\n",
       "  </thead>\n",
       "  <tbody>\n",
       "    <tr>\n",
       "      <th>0</th>\n",
       "      <td>0</td>\n",
       "      <td>Male</td>\n",
       "      <td>Loyal Customer</td>\n",
       "      <td>13</td>\n",
       "      <td>Personal Travel</td>\n",
       "      <td>Eco Plus</td>\n",
       "      <td>460</td>\n",
       "      <td>3</td>\n",
       "      <td>4</td>\n",
       "      <td>3</td>\n",
       "      <td>...</td>\n",
       "      <td>5</td>\n",
       "      <td>4</td>\n",
       "      <td>3</td>\n",
       "      <td>4</td>\n",
       "      <td>4</td>\n",
       "      <td>5</td>\n",
       "      <td>5</td>\n",
       "      <td>25</td>\n",
       "      <td>18.0</td>\n",
       "      <td>neutral or dissatisfied</td>\n",
       "    </tr>\n",
       "    <tr>\n",
       "      <th>1</th>\n",
       "      <td>1</td>\n",
       "      <td>Male</td>\n",
       "      <td>disloyal Customer</td>\n",
       "      <td>25</td>\n",
       "      <td>Business travel</td>\n",
       "      <td>Business</td>\n",
       "      <td>235</td>\n",
       "      <td>3</td>\n",
       "      <td>2</td>\n",
       "      <td>3</td>\n",
       "      <td>...</td>\n",
       "      <td>1</td>\n",
       "      <td>1</td>\n",
       "      <td>5</td>\n",
       "      <td>3</td>\n",
       "      <td>1</td>\n",
       "      <td>4</td>\n",
       "      <td>1</td>\n",
       "      <td>1</td>\n",
       "      <td>6.0</td>\n",
       "      <td>neutral or dissatisfied</td>\n",
       "    </tr>\n",
       "    <tr>\n",
       "      <th>2</th>\n",
       "      <td>2</td>\n",
       "      <td>Female</td>\n",
       "      <td>Loyal Customer</td>\n",
       "      <td>26</td>\n",
       "      <td>Business travel</td>\n",
       "      <td>Business</td>\n",
       "      <td>1142</td>\n",
       "      <td>2</td>\n",
       "      <td>2</td>\n",
       "      <td>2</td>\n",
       "      <td>...</td>\n",
       "      <td>5</td>\n",
       "      <td>4</td>\n",
       "      <td>3</td>\n",
       "      <td>4</td>\n",
       "      <td>4</td>\n",
       "      <td>4</td>\n",
       "      <td>5</td>\n",
       "      <td>0</td>\n",
       "      <td>0.0</td>\n",
       "      <td>satisfied</td>\n",
       "    </tr>\n",
       "    <tr>\n",
       "      <th>3</th>\n",
       "      <td>3</td>\n",
       "      <td>Female</td>\n",
       "      <td>Loyal Customer</td>\n",
       "      <td>25</td>\n",
       "      <td>Business travel</td>\n",
       "      <td>Business</td>\n",
       "      <td>562</td>\n",
       "      <td>2</td>\n",
       "      <td>5</td>\n",
       "      <td>5</td>\n",
       "      <td>...</td>\n",
       "      <td>2</td>\n",
       "      <td>2</td>\n",
       "      <td>5</td>\n",
       "      <td>3</td>\n",
       "      <td>1</td>\n",
       "      <td>4</td>\n",
       "      <td>2</td>\n",
       "      <td>11</td>\n",
       "      <td>9.0</td>\n",
       "      <td>neutral or dissatisfied</td>\n",
       "    </tr>\n",
       "    <tr>\n",
       "      <th>4</th>\n",
       "      <td>4</td>\n",
       "      <td>Male</td>\n",
       "      <td>Loyal Customer</td>\n",
       "      <td>61</td>\n",
       "      <td>Business travel</td>\n",
       "      <td>Business</td>\n",
       "      <td>214</td>\n",
       "      <td>3</td>\n",
       "      <td>3</td>\n",
       "      <td>3</td>\n",
       "      <td>...</td>\n",
       "      <td>3</td>\n",
       "      <td>3</td>\n",
       "      <td>4</td>\n",
       "      <td>4</td>\n",
       "      <td>3</td>\n",
       "      <td>3</td>\n",
       "      <td>3</td>\n",
       "      <td>0</td>\n",
       "      <td>0.0</td>\n",
       "      <td>satisfied</td>\n",
       "    </tr>\n",
       "  </tbody>\n",
       "</table>\n",
       "<p>5 rows × 24 columns</p>\n",
       "</div>\n",
       "      <button class=\"colab-df-convert\" onclick=\"convertToInteractive('df-a68718a2-2b99-4dbc-b879-600c17682614')\"\n",
       "              title=\"Convert this dataframe to an interactive table.\"\n",
       "              style=\"display:none;\">\n",
       "        \n",
       "  <svg xmlns=\"http://www.w3.org/2000/svg\" height=\"24px\"viewBox=\"0 0 24 24\"\n",
       "       width=\"24px\">\n",
       "    <path d=\"M0 0h24v24H0V0z\" fill=\"none\"/>\n",
       "    <path d=\"M18.56 5.44l.94 2.06.94-2.06 2.06-.94-2.06-.94-.94-2.06-.94 2.06-2.06.94zm-11 1L8.5 8.5l.94-2.06 2.06-.94-2.06-.94L8.5 2.5l-.94 2.06-2.06.94zm10 10l.94 2.06.94-2.06 2.06-.94-2.06-.94-.94-2.06-.94 2.06-2.06.94z\"/><path d=\"M17.41 7.96l-1.37-1.37c-.4-.4-.92-.59-1.43-.59-.52 0-1.04.2-1.43.59L10.3 9.45l-7.72 7.72c-.78.78-.78 2.05 0 2.83L4 21.41c.39.39.9.59 1.41.59.51 0 1.02-.2 1.41-.59l7.78-7.78 2.81-2.81c.8-.78.8-2.07 0-2.86zM5.41 20L4 18.59l7.72-7.72 1.47 1.35L5.41 20z\"/>\n",
       "  </svg>\n",
       "      </button>\n",
       "      \n",
       "  <style>\n",
       "    .colab-df-container {\n",
       "      display:flex;\n",
       "      flex-wrap:wrap;\n",
       "      gap: 12px;\n",
       "    }\n",
       "\n",
       "    .colab-df-convert {\n",
       "      background-color: #E8F0FE;\n",
       "      border: none;\n",
       "      border-radius: 50%;\n",
       "      cursor: pointer;\n",
       "      display: none;\n",
       "      fill: #1967D2;\n",
       "      height: 32px;\n",
       "      padding: 0 0 0 0;\n",
       "      width: 32px;\n",
       "    }\n",
       "\n",
       "    .colab-df-convert:hover {\n",
       "      background-color: #E2EBFA;\n",
       "      box-shadow: 0px 1px 2px rgba(60, 64, 67, 0.3), 0px 1px 3px 1px rgba(60, 64, 67, 0.15);\n",
       "      fill: #174EA6;\n",
       "    }\n",
       "\n",
       "    [theme=dark] .colab-df-convert {\n",
       "      background-color: #3B4455;\n",
       "      fill: #D2E3FC;\n",
       "    }\n",
       "\n",
       "    [theme=dark] .colab-df-convert:hover {\n",
       "      background-color: #434B5C;\n",
       "      box-shadow: 0px 1px 3px 1px rgba(0, 0, 0, 0.15);\n",
       "      filter: drop-shadow(0px 1px 2px rgba(0, 0, 0, 0.3));\n",
       "      fill: #FFFFFF;\n",
       "    }\n",
       "  </style>\n",
       "\n",
       "      <script>\n",
       "        const buttonEl =\n",
       "          document.querySelector('#df-a68718a2-2b99-4dbc-b879-600c17682614 button.colab-df-convert');\n",
       "        buttonEl.style.display =\n",
       "          google.colab.kernel.accessAllowed ? 'block' : 'none';\n",
       "\n",
       "        async function convertToInteractive(key) {\n",
       "          const element = document.querySelector('#df-a68718a2-2b99-4dbc-b879-600c17682614');\n",
       "          const dataTable =\n",
       "            await google.colab.kernel.invokeFunction('convertToInteractive',\n",
       "                                                     [key], {});\n",
       "          if (!dataTable) return;\n",
       "\n",
       "          const docLinkHtml = 'Like what you see? Visit the ' +\n",
       "            '<a target=\"_blank\" href=https://colab.research.google.com/notebooks/data_table.ipynb>data table notebook</a>'\n",
       "            + ' to learn more about interactive tables.';\n",
       "          element.innerHTML = '';\n",
       "          dataTable['output_type'] = 'display_data';\n",
       "          await google.colab.output.renderOutput(dataTable, element);\n",
       "          const docLink = document.createElement('div');\n",
       "          docLink.innerHTML = docLinkHtml;\n",
       "          element.appendChild(docLink);\n",
       "        }\n",
       "      </script>\n",
       "    </div>\n",
       "  </div>\n",
       "  "
      ],
      "text/plain": [
       "   Unnamed: 0  Gender      customer_type  age   type_of_travel customer_class  \\\n",
       "0           0    Male     Loyal Customer   13  Personal Travel       Eco Plus   \n",
       "1           1    Male  disloyal Customer   25  Business travel       Business   \n",
       "2           2  Female     Loyal Customer   26  Business travel       Business   \n",
       "3           3  Female     Loyal Customer   25  Business travel       Business   \n",
       "4           4    Male     Loyal Customer   61  Business travel       Business   \n",
       "\n",
       "   flight_distance  inflight_wifi_service  departure_arrival_time_convenient  \\\n",
       "0              460                      3                                  4   \n",
       "1              235                      3                                  2   \n",
       "2             1142                      2                                  2   \n",
       "3              562                      2                                  5   \n",
       "4              214                      3                                  3   \n",
       "\n",
       "   ease_of_online_booking  ...  inflight_entertainment  onboard_service  \\\n",
       "0                       3  ...                       5                4   \n",
       "1                       3  ...                       1                1   \n",
       "2                       2  ...                       5                4   \n",
       "3                       5  ...                       2                2   \n",
       "4                       3  ...                       3                3   \n",
       "\n",
       "   leg_room_service  baggage_handling  checkin_service  inflight_service  \\\n",
       "0                 3                 4                4                 5   \n",
       "1                 5                 3                1                 4   \n",
       "2                 3                 4                4                 4   \n",
       "3                 5                 3                1                 4   \n",
       "4                 4                 4                3                 3   \n",
       "\n",
       "   cleanliness  departure_delay_in_minutes  arrival_delay_in_minutes  \\\n",
       "0            5                          25                      18.0   \n",
       "1            1                           1                       6.0   \n",
       "2            5                           0                       0.0   \n",
       "3            2                          11                       9.0   \n",
       "4            3                           0                       0.0   \n",
       "\n",
       "              satisfaction  \n",
       "0  neutral or dissatisfied  \n",
       "1  neutral or dissatisfied  \n",
       "2                satisfied  \n",
       "3  neutral or dissatisfied  \n",
       "4                satisfied  \n",
       "\n",
       "[5 rows x 24 columns]"
      ]
     },
     "execution_count": 4,
     "metadata": {},
     "output_type": "execute_result"
    }
   ],
   "source": [
    "df.head(5)"
   ]
  },
  {
   "cell_type": "code",
   "execution_count": 5,
   "id": "c21fbfe3",
   "metadata": {
    "id": "c21fbfe3"
   },
   "outputs": [],
   "source": [
    "df_clean = df.dropna(axis=0).drop(['Unnamed: 0'],axis=1)"
   ]
  },
  {
   "cell_type": "markdown",
   "id": "c967a498",
   "metadata": {
    "id": "c967a498"
   },
   "source": [
    "### Data exploration"
   ]
  },
  {
   "cell_type": "code",
   "execution_count": 6,
   "id": "2a5c6768",
   "metadata": {
    "colab": {
     "base_uri": "https://localhost:8080/"
    },
    "id": "2a5c6768",
    "outputId": "b0b1df76-74d1-4ec7-c3cc-286ffb5b32fe",
    "scrolled": false
   },
   "outputs": [
    {
     "data": {
      "text/plain": [
       "neutral or dissatisfied    73225\n",
       "satisfied                  56262\n",
       "Name: satisfaction, dtype: int64"
      ]
     },
     "execution_count": 6,
     "metadata": {},
     "output_type": "execute_result"
    }
   ],
   "source": [
    "df_clean.satisfaction.value_counts()"
   ]
  },
  {
   "cell_type": "code",
   "execution_count": 7,
   "id": "cc5f9a14",
   "metadata": {
    "id": "cc5f9a14"
   },
   "outputs": [],
   "source": [
    "# Great! This is a balanced dataset based on target variable.\n",
    "#change variable 'satisfaction' from object to integer\n",
    "df_clean.loc[df_clean['satisfaction']=='neutral or dissatisfied','satisfaction_int']=0\n",
    "df_clean.loc[df_clean['satisfaction']=='satisfied','satisfaction_int']=1"
   ]
  },
  {
   "cell_type": "code",
   "execution_count": 8,
   "id": "dc1dca68",
   "metadata": {
    "id": "dc1dca68"
   },
   "outputs": [],
   "source": [
    "#remove the original 'satisfaction'.\n",
    "df_clean = df_clean.drop('satisfaction',axis=1)"
   ]
  },
  {
   "cell_type": "code",
   "execution_count": 9,
   "id": "jDbaWaArTlQK",
   "metadata": {
    "colab": {
     "base_uri": "https://localhost:8080/"
    },
    "id": "jDbaWaArTlQK",
    "outputId": "bff0cf46-6e3b-412a-ac80-7b227eeb9031",
    "scrolled": true
   },
   "outputs": [
    {
     "name": "stdout",
     "output_type": "stream",
     "text": [
      "<class 'pandas.core.frame.DataFrame'>\n",
      "Int64Index: 129487 entries, 0 to 129879\n",
      "Data columns (total 23 columns):\n",
      " #   Column                             Non-Null Count   Dtype  \n",
      "---  ------                             --------------   -----  \n",
      " 0   Gender                             129487 non-null  object \n",
      " 1   customer_type                      129487 non-null  object \n",
      " 2   age                                129487 non-null  int64  \n",
      " 3   type_of_travel                     129487 non-null  object \n",
      " 4   customer_class                     129487 non-null  object \n",
      " 5   flight_distance                    129487 non-null  int64  \n",
      " 6   inflight_wifi_service              129487 non-null  int64  \n",
      " 7   departure_arrival_time_convenient  129487 non-null  int64  \n",
      " 8   ease_of_online_booking             129487 non-null  int64  \n",
      " 9   gate_location                      129487 non-null  int64  \n",
      " 10  food_and_drink                     129487 non-null  int64  \n",
      " 11  online_boarding                    129487 non-null  int64  \n",
      " 12  seat_comfort                       129487 non-null  int64  \n",
      " 13  inflight_entertainment             129487 non-null  int64  \n",
      " 14  onboard_service                    129487 non-null  int64  \n",
      " 15  leg_room_service                   129487 non-null  int64  \n",
      " 16  baggage_handling                   129487 non-null  int64  \n",
      " 17  checkin_service                    129487 non-null  int64  \n",
      " 18  inflight_service                   129487 non-null  int64  \n",
      " 19  cleanliness                        129487 non-null  int64  \n",
      " 20  departure_delay_in_minutes         129487 non-null  int64  \n",
      " 21  arrival_delay_in_minutes           129487 non-null  float64\n",
      " 22  satisfaction_int                   129487 non-null  float64\n",
      "dtypes: float64(2), int64(17), object(4)\n",
      "memory usage: 23.7+ MB\n"
     ]
    }
   ],
   "source": [
    "df_clean.info()"
   ]
  },
  {
   "cell_type": "code",
   "execution_count": 10,
   "id": "e7c99c39",
   "metadata": {
    "colab": {
     "base_uri": "https://localhost:8080/",
     "height": 364
    },
    "id": "e7c99c39",
    "outputId": "48576911-95c7-4dec-af3b-166b7ca0d64d",
    "scrolled": true
   },
   "outputs": [
    {
     "data": {
      "text/html": [
       "\n",
       "  <div id=\"df-d8b25661-c9d0-4e4e-b5ab-5ebbbe59065c\">\n",
       "    <div class=\"colab-df-container\">\n",
       "      <div>\n",
       "<style scoped>\n",
       "    .dataframe tbody tr th:only-of-type {\n",
       "        vertical-align: middle;\n",
       "    }\n",
       "\n",
       "    .dataframe tbody tr th {\n",
       "        vertical-align: top;\n",
       "    }\n",
       "\n",
       "    .dataframe thead th {\n",
       "        text-align: right;\n",
       "    }\n",
       "</style>\n",
       "<table border=\"1\" class=\"dataframe\">\n",
       "  <thead>\n",
       "    <tr style=\"text-align: right;\">\n",
       "      <th></th>\n",
       "      <th>age</th>\n",
       "      <th>flight_distance</th>\n",
       "      <th>inflight_wifi_service</th>\n",
       "      <th>departure_arrival_time_convenient</th>\n",
       "      <th>ease_of_online_booking</th>\n",
       "      <th>gate_location</th>\n",
       "      <th>food_and_drink</th>\n",
       "      <th>online_boarding</th>\n",
       "      <th>seat_comfort</th>\n",
       "      <th>inflight_entertainment</th>\n",
       "      <th>onboard_service</th>\n",
       "      <th>leg_room_service</th>\n",
       "      <th>baggage_handling</th>\n",
       "      <th>checkin_service</th>\n",
       "      <th>inflight_service</th>\n",
       "      <th>cleanliness</th>\n",
       "      <th>departure_delay_in_minutes</th>\n",
       "      <th>arrival_delay_in_minutes</th>\n",
       "      <th>satisfaction_int</th>\n",
       "    </tr>\n",
       "  </thead>\n",
       "  <tbody>\n",
       "    <tr>\n",
       "      <th>count</th>\n",
       "      <td>129487.000000</td>\n",
       "      <td>129487.000000</td>\n",
       "      <td>129487.000000</td>\n",
       "      <td>129487.000000</td>\n",
       "      <td>129487.000000</td>\n",
       "      <td>129487.000000</td>\n",
       "      <td>129487.000000</td>\n",
       "      <td>129487.000000</td>\n",
       "      <td>129487.000000</td>\n",
       "      <td>129487.000000</td>\n",
       "      <td>129487.000000</td>\n",
       "      <td>129487.000000</td>\n",
       "      <td>129487.000000</td>\n",
       "      <td>129487.000000</td>\n",
       "      <td>129487.000000</td>\n",
       "      <td>129487.000000</td>\n",
       "      <td>129487.000000</td>\n",
       "      <td>129487.000000</td>\n",
       "      <td>129487.000000</td>\n",
       "    </tr>\n",
       "    <tr>\n",
       "      <th>mean</th>\n",
       "      <td>39.428761</td>\n",
       "      <td>1190.210662</td>\n",
       "      <td>2.728544</td>\n",
       "      <td>3.057349</td>\n",
       "      <td>2.756786</td>\n",
       "      <td>2.976909</td>\n",
       "      <td>3.204685</td>\n",
       "      <td>3.252720</td>\n",
       "      <td>3.441589</td>\n",
       "      <td>3.358067</td>\n",
       "      <td>3.383204</td>\n",
       "      <td>3.351078</td>\n",
       "      <td>3.631886</td>\n",
       "      <td>3.306239</td>\n",
       "      <td>3.642373</td>\n",
       "      <td>3.286222</td>\n",
       "      <td>14.643385</td>\n",
       "      <td>15.091129</td>\n",
       "      <td>0.434499</td>\n",
       "    </tr>\n",
       "    <tr>\n",
       "      <th>std</th>\n",
       "      <td>15.117597</td>\n",
       "      <td>997.560954</td>\n",
       "      <td>1.329235</td>\n",
       "      <td>1.526787</td>\n",
       "      <td>1.401662</td>\n",
       "      <td>1.278506</td>\n",
       "      <td>1.329905</td>\n",
       "      <td>1.350651</td>\n",
       "      <td>1.319168</td>\n",
       "      <td>1.334149</td>\n",
       "      <td>1.287032</td>\n",
       "      <td>1.316132</td>\n",
       "      <td>1.180082</td>\n",
       "      <td>1.266146</td>\n",
       "      <td>1.176614</td>\n",
       "      <td>1.313624</td>\n",
       "      <td>37.932867</td>\n",
       "      <td>38.465650</td>\n",
       "      <td>0.495693</td>\n",
       "    </tr>\n",
       "    <tr>\n",
       "      <th>min</th>\n",
       "      <td>7.000000</td>\n",
       "      <td>31.000000</td>\n",
       "      <td>0.000000</td>\n",
       "      <td>0.000000</td>\n",
       "      <td>0.000000</td>\n",
       "      <td>0.000000</td>\n",
       "      <td>0.000000</td>\n",
       "      <td>0.000000</td>\n",
       "      <td>0.000000</td>\n",
       "      <td>0.000000</td>\n",
       "      <td>0.000000</td>\n",
       "      <td>0.000000</td>\n",
       "      <td>1.000000</td>\n",
       "      <td>0.000000</td>\n",
       "      <td>0.000000</td>\n",
       "      <td>0.000000</td>\n",
       "      <td>0.000000</td>\n",
       "      <td>0.000000</td>\n",
       "      <td>0.000000</td>\n",
       "    </tr>\n",
       "    <tr>\n",
       "      <th>25%</th>\n",
       "      <td>27.000000</td>\n",
       "      <td>414.000000</td>\n",
       "      <td>2.000000</td>\n",
       "      <td>2.000000</td>\n",
       "      <td>2.000000</td>\n",
       "      <td>2.000000</td>\n",
       "      <td>2.000000</td>\n",
       "      <td>2.000000</td>\n",
       "      <td>2.000000</td>\n",
       "      <td>2.000000</td>\n",
       "      <td>2.000000</td>\n",
       "      <td>2.000000</td>\n",
       "      <td>3.000000</td>\n",
       "      <td>3.000000</td>\n",
       "      <td>3.000000</td>\n",
       "      <td>2.000000</td>\n",
       "      <td>0.000000</td>\n",
       "      <td>0.000000</td>\n",
       "      <td>0.000000</td>\n",
       "    </tr>\n",
       "    <tr>\n",
       "      <th>50%</th>\n",
       "      <td>40.000000</td>\n",
       "      <td>844.000000</td>\n",
       "      <td>3.000000</td>\n",
       "      <td>3.000000</td>\n",
       "      <td>3.000000</td>\n",
       "      <td>3.000000</td>\n",
       "      <td>3.000000</td>\n",
       "      <td>3.000000</td>\n",
       "      <td>4.000000</td>\n",
       "      <td>4.000000</td>\n",
       "      <td>4.000000</td>\n",
       "      <td>4.000000</td>\n",
       "      <td>4.000000</td>\n",
       "      <td>3.000000</td>\n",
       "      <td>4.000000</td>\n",
       "      <td>3.000000</td>\n",
       "      <td>0.000000</td>\n",
       "      <td>0.000000</td>\n",
       "      <td>0.000000</td>\n",
       "    </tr>\n",
       "    <tr>\n",
       "      <th>75%</th>\n",
       "      <td>51.000000</td>\n",
       "      <td>1744.000000</td>\n",
       "      <td>4.000000</td>\n",
       "      <td>4.000000</td>\n",
       "      <td>4.000000</td>\n",
       "      <td>4.000000</td>\n",
       "      <td>4.000000</td>\n",
       "      <td>4.000000</td>\n",
       "      <td>5.000000</td>\n",
       "      <td>4.000000</td>\n",
       "      <td>4.000000</td>\n",
       "      <td>4.000000</td>\n",
       "      <td>5.000000</td>\n",
       "      <td>4.000000</td>\n",
       "      <td>5.000000</td>\n",
       "      <td>4.000000</td>\n",
       "      <td>12.000000</td>\n",
       "      <td>13.000000</td>\n",
       "      <td>1.000000</td>\n",
       "    </tr>\n",
       "    <tr>\n",
       "      <th>max</th>\n",
       "      <td>85.000000</td>\n",
       "      <td>4983.000000</td>\n",
       "      <td>5.000000</td>\n",
       "      <td>5.000000</td>\n",
       "      <td>5.000000</td>\n",
       "      <td>5.000000</td>\n",
       "      <td>5.000000</td>\n",
       "      <td>5.000000</td>\n",
       "      <td>5.000000</td>\n",
       "      <td>5.000000</td>\n",
       "      <td>5.000000</td>\n",
       "      <td>5.000000</td>\n",
       "      <td>5.000000</td>\n",
       "      <td>5.000000</td>\n",
       "      <td>5.000000</td>\n",
       "      <td>5.000000</td>\n",
       "      <td>1592.000000</td>\n",
       "      <td>1584.000000</td>\n",
       "      <td>1.000000</td>\n",
       "    </tr>\n",
       "  </tbody>\n",
       "</table>\n",
       "</div>\n",
       "      <button class=\"colab-df-convert\" onclick=\"convertToInteractive('df-d8b25661-c9d0-4e4e-b5ab-5ebbbe59065c')\"\n",
       "              title=\"Convert this dataframe to an interactive table.\"\n",
       "              style=\"display:none;\">\n",
       "        \n",
       "  <svg xmlns=\"http://www.w3.org/2000/svg\" height=\"24px\"viewBox=\"0 0 24 24\"\n",
       "       width=\"24px\">\n",
       "    <path d=\"M0 0h24v24H0V0z\" fill=\"none\"/>\n",
       "    <path d=\"M18.56 5.44l.94 2.06.94-2.06 2.06-.94-2.06-.94-.94-2.06-.94 2.06-2.06.94zm-11 1L8.5 8.5l.94-2.06 2.06-.94-2.06-.94L8.5 2.5l-.94 2.06-2.06.94zm10 10l.94 2.06.94-2.06 2.06-.94-2.06-.94-.94-2.06-.94 2.06-2.06.94z\"/><path d=\"M17.41 7.96l-1.37-1.37c-.4-.4-.92-.59-1.43-.59-.52 0-1.04.2-1.43.59L10.3 9.45l-7.72 7.72c-.78.78-.78 2.05 0 2.83L4 21.41c.39.39.9.59 1.41.59.51 0 1.02-.2 1.41-.59l7.78-7.78 2.81-2.81c.8-.78.8-2.07 0-2.86zM5.41 20L4 18.59l7.72-7.72 1.47 1.35L5.41 20z\"/>\n",
       "  </svg>\n",
       "      </button>\n",
       "      \n",
       "  <style>\n",
       "    .colab-df-container {\n",
       "      display:flex;\n",
       "      flex-wrap:wrap;\n",
       "      gap: 12px;\n",
       "    }\n",
       "\n",
       "    .colab-df-convert {\n",
       "      background-color: #E8F0FE;\n",
       "      border: none;\n",
       "      border-radius: 50%;\n",
       "      cursor: pointer;\n",
       "      display: none;\n",
       "      fill: #1967D2;\n",
       "      height: 32px;\n",
       "      padding: 0 0 0 0;\n",
       "      width: 32px;\n",
       "    }\n",
       "\n",
       "    .colab-df-convert:hover {\n",
       "      background-color: #E2EBFA;\n",
       "      box-shadow: 0px 1px 2px rgba(60, 64, 67, 0.3), 0px 1px 3px 1px rgba(60, 64, 67, 0.15);\n",
       "      fill: #174EA6;\n",
       "    }\n",
       "\n",
       "    [theme=dark] .colab-df-convert {\n",
       "      background-color: #3B4455;\n",
       "      fill: #D2E3FC;\n",
       "    }\n",
       "\n",
       "    [theme=dark] .colab-df-convert:hover {\n",
       "      background-color: #434B5C;\n",
       "      box-shadow: 0px 1px 3px 1px rgba(0, 0, 0, 0.15);\n",
       "      filter: drop-shadow(0px 1px 2px rgba(0, 0, 0, 0.3));\n",
       "      fill: #FFFFFF;\n",
       "    }\n",
       "  </style>\n",
       "\n",
       "      <script>\n",
       "        const buttonEl =\n",
       "          document.querySelector('#df-d8b25661-c9d0-4e4e-b5ab-5ebbbe59065c button.colab-df-convert');\n",
       "        buttonEl.style.display =\n",
       "          google.colab.kernel.accessAllowed ? 'block' : 'none';\n",
       "\n",
       "        async function convertToInteractive(key) {\n",
       "          const element = document.querySelector('#df-d8b25661-c9d0-4e4e-b5ab-5ebbbe59065c');\n",
       "          const dataTable =\n",
       "            await google.colab.kernel.invokeFunction('convertToInteractive',\n",
       "                                                     [key], {});\n",
       "          if (!dataTable) return;\n",
       "\n",
       "          const docLinkHtml = 'Like what you see? Visit the ' +\n",
       "            '<a target=\"_blank\" href=https://colab.research.google.com/notebooks/data_table.ipynb>data table notebook</a>'\n",
       "            + ' to learn more about interactive tables.';\n",
       "          element.innerHTML = '';\n",
       "          dataTable['output_type'] = 'display_data';\n",
       "          await google.colab.output.renderOutput(dataTable, element);\n",
       "          const docLink = document.createElement('div');\n",
       "          docLink.innerHTML = docLinkHtml;\n",
       "          element.appendChild(docLink);\n",
       "        }\n",
       "      </script>\n",
       "    </div>\n",
       "  </div>\n",
       "  "
      ],
      "text/plain": [
       "                 age  flight_distance  inflight_wifi_service  \\\n",
       "count  129487.000000    129487.000000          129487.000000   \n",
       "mean       39.428761      1190.210662               2.728544   \n",
       "std        15.117597       997.560954               1.329235   \n",
       "min         7.000000        31.000000               0.000000   \n",
       "25%        27.000000       414.000000               2.000000   \n",
       "50%        40.000000       844.000000               3.000000   \n",
       "75%        51.000000      1744.000000               4.000000   \n",
       "max        85.000000      4983.000000               5.000000   \n",
       "\n",
       "       departure_arrival_time_convenient  ease_of_online_booking  \\\n",
       "count                      129487.000000           129487.000000   \n",
       "mean                            3.057349                2.756786   \n",
       "std                             1.526787                1.401662   \n",
       "min                             0.000000                0.000000   \n",
       "25%                             2.000000                2.000000   \n",
       "50%                             3.000000                3.000000   \n",
       "75%                             4.000000                4.000000   \n",
       "max                             5.000000                5.000000   \n",
       "\n",
       "       gate_location  food_and_drink  online_boarding   seat_comfort  \\\n",
       "count  129487.000000   129487.000000    129487.000000  129487.000000   \n",
       "mean        2.976909        3.204685         3.252720       3.441589   \n",
       "std         1.278506        1.329905         1.350651       1.319168   \n",
       "min         0.000000        0.000000         0.000000       0.000000   \n",
       "25%         2.000000        2.000000         2.000000       2.000000   \n",
       "50%         3.000000        3.000000         3.000000       4.000000   \n",
       "75%         4.000000        4.000000         4.000000       5.000000   \n",
       "max         5.000000        5.000000         5.000000       5.000000   \n",
       "\n",
       "       inflight_entertainment  onboard_service  leg_room_service  \\\n",
       "count           129487.000000    129487.000000     129487.000000   \n",
       "mean                 3.358067         3.383204          3.351078   \n",
       "std                  1.334149         1.287032          1.316132   \n",
       "min                  0.000000         0.000000          0.000000   \n",
       "25%                  2.000000         2.000000          2.000000   \n",
       "50%                  4.000000         4.000000          4.000000   \n",
       "75%                  4.000000         4.000000          4.000000   \n",
       "max                  5.000000         5.000000          5.000000   \n",
       "\n",
       "       baggage_handling  checkin_service  inflight_service    cleanliness  \\\n",
       "count     129487.000000    129487.000000     129487.000000  129487.000000   \n",
       "mean           3.631886         3.306239          3.642373       3.286222   \n",
       "std            1.180082         1.266146          1.176614       1.313624   \n",
       "min            1.000000         0.000000          0.000000       0.000000   \n",
       "25%            3.000000         3.000000          3.000000       2.000000   \n",
       "50%            4.000000         3.000000          4.000000       3.000000   \n",
       "75%            5.000000         4.000000          5.000000       4.000000   \n",
       "max            5.000000         5.000000          5.000000       5.000000   \n",
       "\n",
       "       departure_delay_in_minutes  arrival_delay_in_minutes  satisfaction_int  \n",
       "count               129487.000000             129487.000000     129487.000000  \n",
       "mean                    14.643385                 15.091129          0.434499  \n",
       "std                     37.932867                 38.465650          0.495693  \n",
       "min                      0.000000                  0.000000          0.000000  \n",
       "25%                      0.000000                  0.000000          0.000000  \n",
       "50%                      0.000000                  0.000000          0.000000  \n",
       "75%                     12.000000                 13.000000          1.000000  \n",
       "max                   1592.000000               1584.000000          1.000000  "
      ]
     },
     "execution_count": 10,
     "metadata": {},
     "output_type": "execute_result"
    }
   ],
   "source": [
    "\n",
    "df_clean.describe()"
   ]
  },
  {
   "cell_type": "code",
   "execution_count": 11,
   "id": "ciRJjRmHZ0lG",
   "metadata": {
    "colab": {
     "base_uri": "https://localhost:8080/",
     "height": 645
    },
    "id": "ciRJjRmHZ0lG",
    "outputId": "32290166-5d24-45a5-a277-65b4c07a4ac5"
   },
   "outputs": [
    {
     "data": {
      "text/html": [
       "\n",
       "  <div id=\"df-8f7a0d0b-3b6a-476c-8bc5-e6e84ce74aa4\">\n",
       "    <div class=\"colab-df-container\">\n",
       "      <div>\n",
       "<style scoped>\n",
       "    .dataframe tbody tr th:only-of-type {\n",
       "        vertical-align: middle;\n",
       "    }\n",
       "\n",
       "    .dataframe tbody tr th {\n",
       "        vertical-align: top;\n",
       "    }\n",
       "\n",
       "    .dataframe thead th {\n",
       "        text-align: right;\n",
       "    }\n",
       "</style>\n",
       "<table border=\"1\" class=\"dataframe\">\n",
       "  <thead>\n",
       "    <tr style=\"text-align: right;\">\n",
       "      <th></th>\n",
       "      <th>count</th>\n",
       "      <th>mean</th>\n",
       "      <th>std</th>\n",
       "      <th>min</th>\n",
       "      <th>25%</th>\n",
       "      <th>50%</th>\n",
       "      <th>75%</th>\n",
       "      <th>max</th>\n",
       "    </tr>\n",
       "  </thead>\n",
       "  <tbody>\n",
       "    <tr>\n",
       "      <th>age</th>\n",
       "      <td>129487.0</td>\n",
       "      <td>39.428761</td>\n",
       "      <td>15.117597</td>\n",
       "      <td>7.0</td>\n",
       "      <td>27.0</td>\n",
       "      <td>40.0</td>\n",
       "      <td>51.0</td>\n",
       "      <td>85.0</td>\n",
       "    </tr>\n",
       "    <tr>\n",
       "      <th>flight_distance</th>\n",
       "      <td>129487.0</td>\n",
       "      <td>1190.210662</td>\n",
       "      <td>997.560954</td>\n",
       "      <td>31.0</td>\n",
       "      <td>414.0</td>\n",
       "      <td>844.0</td>\n",
       "      <td>1744.0</td>\n",
       "      <td>4983.0</td>\n",
       "    </tr>\n",
       "    <tr>\n",
       "      <th>inflight_wifi_service</th>\n",
       "      <td>129487.0</td>\n",
       "      <td>2.728544</td>\n",
       "      <td>1.329235</td>\n",
       "      <td>0.0</td>\n",
       "      <td>2.0</td>\n",
       "      <td>3.0</td>\n",
       "      <td>4.0</td>\n",
       "      <td>5.0</td>\n",
       "    </tr>\n",
       "    <tr>\n",
       "      <th>departure_arrival_time_convenient</th>\n",
       "      <td>129487.0</td>\n",
       "      <td>3.057349</td>\n",
       "      <td>1.526787</td>\n",
       "      <td>0.0</td>\n",
       "      <td>2.0</td>\n",
       "      <td>3.0</td>\n",
       "      <td>4.0</td>\n",
       "      <td>5.0</td>\n",
       "    </tr>\n",
       "    <tr>\n",
       "      <th>ease_of_online_booking</th>\n",
       "      <td>129487.0</td>\n",
       "      <td>2.756786</td>\n",
       "      <td>1.401662</td>\n",
       "      <td>0.0</td>\n",
       "      <td>2.0</td>\n",
       "      <td>3.0</td>\n",
       "      <td>4.0</td>\n",
       "      <td>5.0</td>\n",
       "    </tr>\n",
       "    <tr>\n",
       "      <th>gate_location</th>\n",
       "      <td>129487.0</td>\n",
       "      <td>2.976909</td>\n",
       "      <td>1.278506</td>\n",
       "      <td>0.0</td>\n",
       "      <td>2.0</td>\n",
       "      <td>3.0</td>\n",
       "      <td>4.0</td>\n",
       "      <td>5.0</td>\n",
       "    </tr>\n",
       "    <tr>\n",
       "      <th>food_and_drink</th>\n",
       "      <td>129487.0</td>\n",
       "      <td>3.204685</td>\n",
       "      <td>1.329905</td>\n",
       "      <td>0.0</td>\n",
       "      <td>2.0</td>\n",
       "      <td>3.0</td>\n",
       "      <td>4.0</td>\n",
       "      <td>5.0</td>\n",
       "    </tr>\n",
       "    <tr>\n",
       "      <th>online_boarding</th>\n",
       "      <td>129487.0</td>\n",
       "      <td>3.252720</td>\n",
       "      <td>1.350651</td>\n",
       "      <td>0.0</td>\n",
       "      <td>2.0</td>\n",
       "      <td>3.0</td>\n",
       "      <td>4.0</td>\n",
       "      <td>5.0</td>\n",
       "    </tr>\n",
       "    <tr>\n",
       "      <th>seat_comfort</th>\n",
       "      <td>129487.0</td>\n",
       "      <td>3.441589</td>\n",
       "      <td>1.319168</td>\n",
       "      <td>0.0</td>\n",
       "      <td>2.0</td>\n",
       "      <td>4.0</td>\n",
       "      <td>5.0</td>\n",
       "      <td>5.0</td>\n",
       "    </tr>\n",
       "    <tr>\n",
       "      <th>inflight_entertainment</th>\n",
       "      <td>129487.0</td>\n",
       "      <td>3.358067</td>\n",
       "      <td>1.334149</td>\n",
       "      <td>0.0</td>\n",
       "      <td>2.0</td>\n",
       "      <td>4.0</td>\n",
       "      <td>4.0</td>\n",
       "      <td>5.0</td>\n",
       "    </tr>\n",
       "    <tr>\n",
       "      <th>onboard_service</th>\n",
       "      <td>129487.0</td>\n",
       "      <td>3.383204</td>\n",
       "      <td>1.287032</td>\n",
       "      <td>0.0</td>\n",
       "      <td>2.0</td>\n",
       "      <td>4.0</td>\n",
       "      <td>4.0</td>\n",
       "      <td>5.0</td>\n",
       "    </tr>\n",
       "    <tr>\n",
       "      <th>leg_room_service</th>\n",
       "      <td>129487.0</td>\n",
       "      <td>3.351078</td>\n",
       "      <td>1.316132</td>\n",
       "      <td>0.0</td>\n",
       "      <td>2.0</td>\n",
       "      <td>4.0</td>\n",
       "      <td>4.0</td>\n",
       "      <td>5.0</td>\n",
       "    </tr>\n",
       "    <tr>\n",
       "      <th>baggage_handling</th>\n",
       "      <td>129487.0</td>\n",
       "      <td>3.631886</td>\n",
       "      <td>1.180082</td>\n",
       "      <td>1.0</td>\n",
       "      <td>3.0</td>\n",
       "      <td>4.0</td>\n",
       "      <td>5.0</td>\n",
       "      <td>5.0</td>\n",
       "    </tr>\n",
       "    <tr>\n",
       "      <th>checkin_service</th>\n",
       "      <td>129487.0</td>\n",
       "      <td>3.306239</td>\n",
       "      <td>1.266146</td>\n",
       "      <td>0.0</td>\n",
       "      <td>3.0</td>\n",
       "      <td>3.0</td>\n",
       "      <td>4.0</td>\n",
       "      <td>5.0</td>\n",
       "    </tr>\n",
       "    <tr>\n",
       "      <th>inflight_service</th>\n",
       "      <td>129487.0</td>\n",
       "      <td>3.642373</td>\n",
       "      <td>1.176614</td>\n",
       "      <td>0.0</td>\n",
       "      <td>3.0</td>\n",
       "      <td>4.0</td>\n",
       "      <td>5.0</td>\n",
       "      <td>5.0</td>\n",
       "    </tr>\n",
       "    <tr>\n",
       "      <th>cleanliness</th>\n",
       "      <td>129487.0</td>\n",
       "      <td>3.286222</td>\n",
       "      <td>1.313624</td>\n",
       "      <td>0.0</td>\n",
       "      <td>2.0</td>\n",
       "      <td>3.0</td>\n",
       "      <td>4.0</td>\n",
       "      <td>5.0</td>\n",
       "    </tr>\n",
       "    <tr>\n",
       "      <th>departure_delay_in_minutes</th>\n",
       "      <td>129487.0</td>\n",
       "      <td>14.643385</td>\n",
       "      <td>37.932867</td>\n",
       "      <td>0.0</td>\n",
       "      <td>0.0</td>\n",
       "      <td>0.0</td>\n",
       "      <td>12.0</td>\n",
       "      <td>1592.0</td>\n",
       "    </tr>\n",
       "    <tr>\n",
       "      <th>arrival_delay_in_minutes</th>\n",
       "      <td>129487.0</td>\n",
       "      <td>15.091129</td>\n",
       "      <td>38.465650</td>\n",
       "      <td>0.0</td>\n",
       "      <td>0.0</td>\n",
       "      <td>0.0</td>\n",
       "      <td>13.0</td>\n",
       "      <td>1584.0</td>\n",
       "    </tr>\n",
       "    <tr>\n",
       "      <th>satisfaction_int</th>\n",
       "      <td>129487.0</td>\n",
       "      <td>0.434499</td>\n",
       "      <td>0.495693</td>\n",
       "      <td>0.0</td>\n",
       "      <td>0.0</td>\n",
       "      <td>0.0</td>\n",
       "      <td>1.0</td>\n",
       "      <td>1.0</td>\n",
       "    </tr>\n",
       "  </tbody>\n",
       "</table>\n",
       "</div>\n",
       "      <button class=\"colab-df-convert\" onclick=\"convertToInteractive('df-8f7a0d0b-3b6a-476c-8bc5-e6e84ce74aa4')\"\n",
       "              title=\"Convert this dataframe to an interactive table.\"\n",
       "              style=\"display:none;\">\n",
       "        \n",
       "  <svg xmlns=\"http://www.w3.org/2000/svg\" height=\"24px\"viewBox=\"0 0 24 24\"\n",
       "       width=\"24px\">\n",
       "    <path d=\"M0 0h24v24H0V0z\" fill=\"none\"/>\n",
       "    <path d=\"M18.56 5.44l.94 2.06.94-2.06 2.06-.94-2.06-.94-.94-2.06-.94 2.06-2.06.94zm-11 1L8.5 8.5l.94-2.06 2.06-.94-2.06-.94L8.5 2.5l-.94 2.06-2.06.94zm10 10l.94 2.06.94-2.06 2.06-.94-2.06-.94-.94-2.06-.94 2.06-2.06.94z\"/><path d=\"M17.41 7.96l-1.37-1.37c-.4-.4-.92-.59-1.43-.59-.52 0-1.04.2-1.43.59L10.3 9.45l-7.72 7.72c-.78.78-.78 2.05 0 2.83L4 21.41c.39.39.9.59 1.41.59.51 0 1.02-.2 1.41-.59l7.78-7.78 2.81-2.81c.8-.78.8-2.07 0-2.86zM5.41 20L4 18.59l7.72-7.72 1.47 1.35L5.41 20z\"/>\n",
       "  </svg>\n",
       "      </button>\n",
       "      \n",
       "  <style>\n",
       "    .colab-df-container {\n",
       "      display:flex;\n",
       "      flex-wrap:wrap;\n",
       "      gap: 12px;\n",
       "    }\n",
       "\n",
       "    .colab-df-convert {\n",
       "      background-color: #E8F0FE;\n",
       "      border: none;\n",
       "      border-radius: 50%;\n",
       "      cursor: pointer;\n",
       "      display: none;\n",
       "      fill: #1967D2;\n",
       "      height: 32px;\n",
       "      padding: 0 0 0 0;\n",
       "      width: 32px;\n",
       "    }\n",
       "\n",
       "    .colab-df-convert:hover {\n",
       "      background-color: #E2EBFA;\n",
       "      box-shadow: 0px 1px 2px rgba(60, 64, 67, 0.3), 0px 1px 3px 1px rgba(60, 64, 67, 0.15);\n",
       "      fill: #174EA6;\n",
       "    }\n",
       "\n",
       "    [theme=dark] .colab-df-convert {\n",
       "      background-color: #3B4455;\n",
       "      fill: #D2E3FC;\n",
       "    }\n",
       "\n",
       "    [theme=dark] .colab-df-convert:hover {\n",
       "      background-color: #434B5C;\n",
       "      box-shadow: 0px 1px 3px 1px rgba(0, 0, 0, 0.15);\n",
       "      filter: drop-shadow(0px 1px 2px rgba(0, 0, 0, 0.3));\n",
       "      fill: #FFFFFF;\n",
       "    }\n",
       "  </style>\n",
       "\n",
       "      <script>\n",
       "        const buttonEl =\n",
       "          document.querySelector('#df-8f7a0d0b-3b6a-476c-8bc5-e6e84ce74aa4 button.colab-df-convert');\n",
       "        buttonEl.style.display =\n",
       "          google.colab.kernel.accessAllowed ? 'block' : 'none';\n",
       "\n",
       "        async function convertToInteractive(key) {\n",
       "          const element = document.querySelector('#df-8f7a0d0b-3b6a-476c-8bc5-e6e84ce74aa4');\n",
       "          const dataTable =\n",
       "            await google.colab.kernel.invokeFunction('convertToInteractive',\n",
       "                                                     [key], {});\n",
       "          if (!dataTable) return;\n",
       "\n",
       "          const docLinkHtml = 'Like what you see? Visit the ' +\n",
       "            '<a target=\"_blank\" href=https://colab.research.google.com/notebooks/data_table.ipynb>data table notebook</a>'\n",
       "            + ' to learn more about interactive tables.';\n",
       "          element.innerHTML = '';\n",
       "          dataTable['output_type'] = 'display_data';\n",
       "          await google.colab.output.renderOutput(dataTable, element);\n",
       "          const docLink = document.createElement('div');\n",
       "          docLink.innerHTML = docLinkHtml;\n",
       "          element.appendChild(docLink);\n",
       "        }\n",
       "      </script>\n",
       "    </div>\n",
       "  </div>\n",
       "  "
      ],
      "text/plain": [
       "                                      count         mean         std   min  \\\n",
       "age                                129487.0    39.428761   15.117597   7.0   \n",
       "flight_distance                    129487.0  1190.210662  997.560954  31.0   \n",
       "inflight_wifi_service              129487.0     2.728544    1.329235   0.0   \n",
       "departure_arrival_time_convenient  129487.0     3.057349    1.526787   0.0   \n",
       "ease_of_online_booking             129487.0     2.756786    1.401662   0.0   \n",
       "gate_location                      129487.0     2.976909    1.278506   0.0   \n",
       "food_and_drink                     129487.0     3.204685    1.329905   0.0   \n",
       "online_boarding                    129487.0     3.252720    1.350651   0.0   \n",
       "seat_comfort                       129487.0     3.441589    1.319168   0.0   \n",
       "inflight_entertainment             129487.0     3.358067    1.334149   0.0   \n",
       "onboard_service                    129487.0     3.383204    1.287032   0.0   \n",
       "leg_room_service                   129487.0     3.351078    1.316132   0.0   \n",
       "baggage_handling                   129487.0     3.631886    1.180082   1.0   \n",
       "checkin_service                    129487.0     3.306239    1.266146   0.0   \n",
       "inflight_service                   129487.0     3.642373    1.176614   0.0   \n",
       "cleanliness                        129487.0     3.286222    1.313624   0.0   \n",
       "departure_delay_in_minutes         129487.0    14.643385   37.932867   0.0   \n",
       "arrival_delay_in_minutes           129487.0    15.091129   38.465650   0.0   \n",
       "satisfaction_int                   129487.0     0.434499    0.495693   0.0   \n",
       "\n",
       "                                     25%    50%     75%     max  \n",
       "age                                 27.0   40.0    51.0    85.0  \n",
       "flight_distance                    414.0  844.0  1744.0  4983.0  \n",
       "inflight_wifi_service                2.0    3.0     4.0     5.0  \n",
       "departure_arrival_time_convenient    2.0    3.0     4.0     5.0  \n",
       "ease_of_online_booking               2.0    3.0     4.0     5.0  \n",
       "gate_location                        2.0    3.0     4.0     5.0  \n",
       "food_and_drink                       2.0    3.0     4.0     5.0  \n",
       "online_boarding                      2.0    3.0     4.0     5.0  \n",
       "seat_comfort                         2.0    4.0     5.0     5.0  \n",
       "inflight_entertainment               2.0    4.0     4.0     5.0  \n",
       "onboard_service                      2.0    4.0     4.0     5.0  \n",
       "leg_room_service                     2.0    4.0     4.0     5.0  \n",
       "baggage_handling                     3.0    4.0     5.0     5.0  \n",
       "checkin_service                      3.0    3.0     4.0     5.0  \n",
       "inflight_service                     3.0    4.0     5.0     5.0  \n",
       "cleanliness                          2.0    3.0     4.0     5.0  \n",
       "departure_delay_in_minutes           0.0    0.0    12.0  1592.0  \n",
       "arrival_delay_in_minutes             0.0    0.0    13.0  1584.0  \n",
       "satisfaction_int                     0.0    0.0     1.0     1.0  "
      ]
     },
     "execution_count": 11,
     "metadata": {},
     "output_type": "execute_result"
    }
   ],
   "source": [
    "df_clean.describe().T"
   ]
  },
  {
   "cell_type": "markdown",
   "id": "a-Nbxfvl_VjQ",
   "metadata": {
    "id": "a-Nbxfvl_VjQ"
   },
   "source": [
    "#### Numeric Variables Exploration"
   ]
  },
  {
   "cell_type": "code",
   "execution_count": 12,
   "id": "fd09c9f6",
   "metadata": {
    "id": "fd09c9f6",
    "scrolled": true
   },
   "outputs": [],
   "source": [
    "num_columns_list = list(df_clean.select_dtypes(include=['int','float']))"
   ]
  },
  {
   "cell_type": "code",
   "execution_count": 13,
   "id": "65edd70a",
   "metadata": {
    "colab": {
     "base_uri": "https://localhost:8080/",
     "height": 1000
    },
    "id": "65edd70a",
    "outputId": "d68ab2c7-41f0-4656-f40e-0a2374512ae7"
   },
   "outputs": [
    {
     "data": {
      "image/png": "[encoded data removed]",
      "text/plain": [
       "<Figure size 1440x1152 with 19 Axes>"
      ]
     },
     "metadata": {
      "needs_background": "light"
     },
     "output_type": "display_data"
    }
   ],
   "source": [
    "plt.figure(figsize=(20,16))\n",
    "for i, column in enumerate(num_columns_list):\n",
    "    plt.subplot(4,5,i+1)\n",
    "    plt.hist(df_clean[column])\n",
    "    plt.title('histogram of {}'.format(column))\n",
    "    plt.xticks(rotation=90)\n",
    "plt.tight_layout()\n",
    "plt.show()"
   ]
  },
  {
   "cell_type": "code",
   "execution_count": 14,
   "id": "g8GXAqf29-14",
   "metadata": {
    "colab": {
     "base_uri": "https://localhost:8080/"
    },
    "id": "g8GXAqf29-14",
    "outputId": "a7ff6e94-961f-4812-ac28-60d96f6290d3",
    "scrolled": true
   },
   "outputs": [
    {
     "name": "stdout",
     "output_type": "stream",
     "text": [
      "                                        age  flight_distance  \\\n",
      "age                                1.000000         0.099863   \n",
      "flight_distance                    0.099863         1.000000   \n",
      "inflight_wifi_service              0.015779         0.006554   \n",
      "departure_arrival_time_convenient  0.036780        -0.018901   \n",
      "ease_of_online_booking             0.022294         0.064959   \n",
      "gate_location                     -0.000709         0.005378   \n",
      "food_and_drink                     0.023283         0.057136   \n",
      "online_boarding                    0.207485         0.215082   \n",
      "seat_comfort                       0.159229         0.157825   \n",
      "inflight_entertainment             0.074990         0.130518   \n",
      "onboard_service                    0.056743         0.111224   \n",
      "leg_room_service                   0.038992         0.134548   \n",
      "baggage_handling                  -0.048192         0.064810   \n",
      "checkin_service                    0.033182         0.073635   \n",
      "inflight_service                  -0.051778         0.059182   \n",
      "cleanliness                        0.052575         0.095658   \n",
      "departure_delay_in_minutes        -0.009263         0.001992   \n",
      "arrival_delay_in_minutes          -0.011248        -0.001935   \n",
      "satisfaction_int                   0.134001         0.298206   \n",
      "\n",
      "                                   inflight_wifi_service  \\\n",
      "age                                             0.015779   \n",
      "flight_distance                                 0.006554   \n",
      "inflight_wifi_service                           1.000000   \n",
      "departure_arrival_time_convenient               0.344846   \n",
      "ease_of_online_booking                          0.714888   \n",
      "gate_location                                   0.338547   \n",
      "food_and_drink                                  0.132109   \n",
      "online_boarding                                 0.457422   \n",
      "seat_comfort                                    0.121373   \n",
      "inflight_entertainment                          0.207887   \n",
      "onboard_service                                 0.120028   \n",
      "leg_room_service                                0.160414   \n",
      "baggage_handling                                0.120548   \n",
      "checkin_service                                 0.043847   \n",
      "inflight_service                                0.110300   \n",
      "cleanliness                                     0.131163   \n",
      "departure_delay_in_minutes                     -0.016046   \n",
      "arrival_delay_in_minutes                       -0.017749   \n",
      "satisfaction_int                                0.283291   \n",
      "\n",
      "                                   departure_arrival_time_convenient  \\\n",
      "age                                                         0.036780   \n",
      "flight_distance                                            -0.018901   \n",
      "inflight_wifi_service                                       0.344846   \n",
      "departure_arrival_time_convenient                           1.000000   \n",
      "ease_of_online_booking                                      0.437697   \n",
      "gate_location                                               0.447411   \n",
      "food_and_drink                                              0.001057   \n",
      "online_boarding                                             0.072175   \n",
      "seat_comfort                                                0.008707   \n",
      "inflight_entertainment                                     -0.008189   \n",
      "onboard_service                                             0.067046   \n",
      "leg_room_service                                            0.010634   \n",
      "baggage_handling                                            0.070646   \n",
      "checkin_service                                             0.091217   \n",
      "inflight_service                                            0.072166   \n",
      "cleanliness                                                 0.010021   \n",
      "departure_delay_in_minutes                                  0.000610   \n",
      "arrival_delay_in_minutes                                   -0.000942   \n",
      "satisfaction_int                                           -0.054457   \n",
      "\n",
      "                                   ease_of_online_booking  gate_location  \\\n",
      "age                                              0.022294      -0.000709   \n",
      "flight_distance                                  0.064959       0.005378   \n",
      "inflight_wifi_service                            0.714888       0.338547   \n",
      "departure_arrival_time_convenient                0.437697       0.447411   \n",
      "ease_of_online_booking                           1.000000       0.460155   \n",
      "gate_location                                    0.460155       1.000000   \n",
      "food_and_drink                                   0.030638      -0.002825   \n",
      "online_boarding                                  0.404944       0.002579   \n",
      "seat_comfort                                     0.028602       0.002493   \n",
      "inflight_entertainment                           0.046669       0.002751   \n",
      "onboard_service                                  0.039039      -0.029109   \n",
      "leg_room_service                                 0.109341      -0.005146   \n",
      "baggage_handling                                 0.039215       0.001097   \n",
      "checkin_service                                  0.008835      -0.039294   \n",
      "inflight_service                                 0.035356       0.000337   \n",
      "cleanliness                                      0.015150      -0.006066   \n",
      "departure_delay_in_minutes                      -0.005330       0.005943   \n",
      "arrival_delay_in_minutes                        -0.007033       0.005658   \n",
      "satisfaction_int                                 0.168704      -0.002923   \n",
      "\n",
      "                                   food_and_drink  online_boarding  \\\n",
      "age                                      0.023283         0.207485   \n",
      "flight_distance                          0.057136         0.215082   \n",
      "inflight_wifi_service                    0.132109         0.457422   \n",
      "departure_arrival_time_convenient        0.001057         0.072175   \n",
      "ease_of_online_booking                   0.030638         0.404944   \n",
      "gate_location                           -0.002825         0.002579   \n",
      "food_and_drink                           1.000000         0.233524   \n",
      "online_boarding                          0.233524         1.000000   \n",
      "seat_comfort                             0.575993         0.419169   \n",
      "inflight_entertainment                   0.623366         0.284008   \n",
      "onboard_service                          0.057476         0.154272   \n",
      "leg_room_service                         0.033215         0.123149   \n",
      "baggage_handling                         0.035413         0.083563   \n",
      "checkin_service                          0.085103         0.204215   \n",
      "inflight_service                         0.035424         0.073973   \n",
      "cleanliness                              0.658026         0.329331   \n",
      "departure_delay_in_minutes              -0.029351        -0.019319   \n",
      "arrival_delay_in_minutes                -0.031715        -0.022730   \n",
      "satisfaction_int                         0.211164         0.501620   \n",
      "\n",
      "                                   seat_comfort  inflight_entertainment  \\\n",
      "age                                    0.159229                0.074990   \n",
      "flight_distance                        0.157825                0.130518   \n",
      "inflight_wifi_service                  0.121373                0.207887   \n",
      "departure_arrival_time_convenient      0.008707               -0.008189   \n",
      "ease_of_online_booking                 0.028602                0.046669   \n",
      "gate_location                          0.002493                0.002751   \n",
      "food_and_drink                         0.575993                0.623366   \n",
      "online_boarding                        0.419169                0.284008   \n",
      "seat_comfort                           1.000000                0.611949   \n",
      "inflight_entertainment                 0.611949                1.000000   \n",
      "onboard_service                        0.130654                0.418863   \n",
      "leg_room_service                       0.104244                0.300573   \n",
      "baggage_handling                       0.074617                0.379291   \n",
      "checkin_service                        0.189838                0.119664   \n",
      "inflight_service                       0.068912                0.406561   \n",
      "cleanliness                            0.679657                0.692491   \n",
      "departure_delay_in_minutes            -0.027711               -0.027166   \n",
      "arrival_delay_in_minutes              -0.030521               -0.030230   \n",
      "satisfaction_int                       0.348576                0.398334   \n",
      "\n",
      "                                   onboard_service  leg_room_service  \\\n",
      "age                                       0.056743          0.038992   \n",
      "flight_distance                           0.111224          0.134548   \n",
      "inflight_wifi_service                     0.120028          0.160414   \n",
      "departure_arrival_time_convenient         0.067046          0.010634   \n",
      "ease_of_online_booking                    0.039039          0.109341   \n",
      "gate_location                            -0.029109         -0.005146   \n",
      "food_and_drink                            0.057476          0.033215   \n",
      "online_boarding                           0.154272          0.123149   \n",
      "seat_comfort                              0.130654          0.104244   \n",
      "inflight_entertainment                    0.418863          0.300573   \n",
      "onboard_service                           1.000000          0.357877   \n",
      "leg_room_service                          0.357877          1.000000   \n",
      "baggage_handling                          0.520400          0.371599   \n",
      "checkin_service                           0.244620          0.152715   \n",
      "inflight_service                          0.551460          0.369833   \n",
      "cleanliness                               0.122208          0.096777   \n",
      "departure_delay_in_minutes               -0.030471          0.014339   \n",
      "arrival_delay_in_minutes                 -0.034789          0.011346   \n",
      "satisfaction_int                          0.322329          0.312557   \n",
      "\n",
      "                                   baggage_handling  checkin_service  \\\n",
      "age                                       -0.048192         0.033182   \n",
      "flight_distance                            0.064810         0.073635   \n",
      "inflight_wifi_service                      0.120548         0.043847   \n",
      "departure_arrival_time_convenient          0.070646         0.091217   \n",
      "ease_of_online_booking                     0.039215         0.008835   \n",
      "gate_location                              0.001097        -0.039294   \n",
      "food_and_drink                             0.035413         0.085103   \n",
      "online_boarding                            0.083563         0.204215   \n",
      "seat_comfort                               0.074617         0.189838   \n",
      "inflight_entertainment                     0.379291         0.119664   \n",
      "onboard_service                            0.520400         0.244620   \n",
      "leg_room_service                           0.371599         0.152715   \n",
      "baggage_handling                           1.000000         0.234732   \n",
      "checkin_service                            0.234732         1.000000   \n",
      "inflight_service                           0.629492         0.237737   \n",
      "cleanliness                                0.097107         0.176611   \n",
      "departure_delay_in_minutes                -0.004425        -0.018632   \n",
      "arrival_delay_in_minutes                  -0.007935        -0.021705   \n",
      "satisfaction_int                           0.248651         0.237146   \n",
      "\n",
      "                                   inflight_service  cleanliness  \\\n",
      "age                                       -0.051778     0.052575   \n",
      "flight_distance                            0.059182     0.095658   \n",
      "inflight_wifi_service                      0.110300     0.131163   \n",
      "departure_arrival_time_convenient          0.072166     0.010021   \n",
      "ease_of_online_booking                     0.035356     0.015150   \n",
      "gate_location                              0.000337    -0.006066   \n",
      "food_and_drink                             0.035424     0.658026   \n",
      "online_boarding                            0.073973     0.329331   \n",
      "seat_comfort                               0.068912     0.679657   \n",
      "inflight_entertainment                     0.406561     0.692491   \n",
      "onboard_service                            0.551460     0.122208   \n",
      "leg_room_service                           0.369833     0.096777   \n",
      "baggage_handling                           0.629492     0.097107   \n",
      "checkin_service                            0.237737     0.176611   \n",
      "inflight_service                           1.000000     0.090565   \n",
      "cleanliness                                0.090565     1.000000   \n",
      "departure_delay_in_minutes                -0.054329    -0.014553   \n",
      "arrival_delay_in_minutes                  -0.059853    -0.016546   \n",
      "satisfaction_int                           0.245027     0.306891   \n",
      "\n",
      "                                   departure_delay_in_minutes  \\\n",
      "age                                                 -0.009263   \n",
      "flight_distance                                      0.001992   \n",
      "inflight_wifi_service                               -0.016046   \n",
      "departure_arrival_time_convenient                    0.000610   \n",
      "ease_of_online_booking                              -0.005330   \n",
      "gate_location                                        0.005943   \n",
      "food_and_drink                                      -0.029351   \n",
      "online_boarding                                     -0.019319   \n",
      "seat_comfort                                        -0.027711   \n",
      "inflight_entertainment                              -0.027166   \n",
      "onboard_service                                     -0.030471   \n",
      "leg_room_service                                     0.014339   \n",
      "baggage_handling                                    -0.004425   \n",
      "checkin_service                                     -0.018632   \n",
      "inflight_service                                    -0.054329   \n",
      "cleanliness                                         -0.014553   \n",
      "departure_delay_in_minutes                           1.000000   \n",
      "arrival_delay_in_minutes                             0.965291   \n",
      "satisfaction_int                                    -0.051032   \n",
      "\n",
      "                                   arrival_delay_in_minutes  satisfaction_int  \n",
      "age                                               -0.011248          0.134001  \n",
      "flight_distance                                   -0.001935          0.298206  \n",
      "inflight_wifi_service                             -0.017749          0.283291  \n",
      "departure_arrival_time_convenient                 -0.000942         -0.054457  \n",
      "ease_of_online_booking                            -0.007033          0.168704  \n",
      "gate_location                                      0.005658         -0.002923  \n",
      "food_and_drink                                    -0.031715          0.211164  \n",
      "online_boarding                                   -0.022730          0.501620  \n",
      "seat_comfort                                      -0.030521          0.348576  \n",
      "inflight_entertainment                            -0.030230          0.398334  \n",
      "onboard_service                                   -0.034789          0.322329  \n",
      "leg_room_service                                   0.011346          0.312557  \n",
      "baggage_handling                                  -0.007935          0.248651  \n",
      "checkin_service                                   -0.021705          0.237146  \n",
      "inflight_service                                  -0.059853          0.245027  \n",
      "cleanliness                                       -0.016546          0.306891  \n",
      "departure_delay_in_minutes                         0.965291         -0.051032  \n",
      "arrival_delay_in_minutes                           1.000000         -0.058275  \n",
      "satisfaction_int                                  -0.058275          1.000000  \n"
     ]
    }
   ],
   "source": [
    "corrmat_df_clean = df_clean[num_columns_list].corr()\n",
    "print(corrmat_df_clean)"
   ]
  },
  {
   "cell_type": "code",
   "execution_count": 15,
   "id": "gKxPwuHN-cbq",
   "metadata": {
    "colab": {
     "base_uri": "https://localhost:8080/",
     "height": 959
    },
    "id": "gKxPwuHN-cbq",
    "outputId": "23e25ff3-e407-4233-c88f-604d7ae8559f",
    "scrolled": false
   },
   "outputs": [
    {
     "data": {
      "image/png": "[encoded data removed]",
      "text/plain": [
       "<Figure size 1080x1080 with 2 Axes>"
      ]
     },
     "metadata": {
      "needs_background": "light"
     },
     "output_type": "display_data"
    }
   ],
   "source": [
    "#plot the heatmap of correlation between numeric variables\n",
    "plt.figure(figsize=(15,15))\n",
    "sns.heatmap(corrmat_df_clean,square=True,annot=True,linewidths=0.5)\n",
    "plt.title(\"Correlation matrix\")\n",
    "plt.show()"
   ]
  },
  {
   "cell_type": "code",
   "execution_count": 16,
   "id": "G5N-UO5FlcKu",
   "metadata": {
    "colab": {
     "base_uri": "https://localhost:8080/"
    },
    "id": "G5N-UO5FlcKu",
    "outputId": "4823e6de-d938-4833-a8c9-395b1aa2de9e"
   },
   "outputs": [
    {
     "data": {
      "text/plain": [
       "['age',\n",
       " 'flight_distance',\n",
       " 'inflight_wifi_service',\n",
       " 'departure_arrival_time_convenient',\n",
       " 'ease_of_online_booking',\n",
       " 'gate_location',\n",
       " 'food_and_drink',\n",
       " 'online_boarding',\n",
       " 'seat_comfort',\n",
       " 'inflight_entertainment',\n",
       " 'onboard_service',\n",
       " 'leg_room_service',\n",
       " 'baggage_handling',\n",
       " 'checkin_service',\n",
       " 'inflight_service',\n",
       " 'cleanliness',\n",
       " 'departure_delay_in_minutes',\n",
       " 'arrival_delay_in_minutes',\n",
       " 'satisfaction_int']"
      ]
     },
     "execution_count": 16,
     "metadata": {},
     "output_type": "execute_result"
    }
   ],
   "source": [
    "num_columns_list "
   ]
  },
  {
   "cell_type": "code",
   "execution_count": 17,
   "id": "EQG3LF0jfkmr",
   "metadata": {
    "id": "EQG3LF0jfkmr"
   },
   "outputs": [],
   "source": [
    "# pick the numeric columns having correlation factor with 'satisfaction_int' greater than 0.3.\n",
    "pik_num_columns = ['flight_distance','online_boarding','seat_comfort','inflight_entertainment','onboard_service','leg_room_service','cleanliness']"
   ]
  },
  {
   "cell_type": "markdown",
   "id": "9f046dec",
   "metadata": {
    "id": "9f046dec"
   },
   "source": [
    "#### Categorical Variables Exploration"
   ]
  },
  {
   "cell_type": "code",
   "execution_count": 18,
   "id": "41d0fd16",
   "metadata": {
    "id": "41d0fd16"
   },
   "outputs": [],
   "source": [
    "#list all the categorical variables\n",
    "cat_columns_list = list(df_clean.select_dtypes(include=['object']))"
   ]
  },
  {
   "cell_type": "code",
   "execution_count": 19,
   "id": "oK3GkDmodMHM",
   "metadata": {
    "colab": {
     "base_uri": "https://localhost:8080/"
    },
    "id": "oK3GkDmodMHM",
    "outputId": "3140c849-c182-4060-e0d4-00d44f5fdfcb"
   },
   "outputs": [
    {
     "data": {
      "text/plain": [
       "['Gender', 'customer_type', 'type_of_travel', 'customer_class']"
      ]
     },
     "execution_count": 19,
     "metadata": {},
     "output_type": "execute_result"
    }
   ],
   "source": [
    "cat_columns_list"
   ]
  },
  {
   "cell_type": "code",
   "execution_count": 20,
   "id": "017ff7cc",
   "metadata": {
    "colab": {
     "base_uri": "https://localhost:8080/",
     "height": 369
    },
    "id": "017ff7cc",
    "outputId": "44132188-fef1-4c43-a2f6-d6059cf56710"
   },
   "outputs": [
    {
     "data": {
      "image/png": "[encoded data removed]",
      "text/plain": [
       "<Figure size 1080x360 with 4 Axes>"
      ]
     },
     "metadata": {
      "needs_background": "light"
     },
     "output_type": "display_data"
    }
   ],
   "source": [
    "plt.figure(figsize=(15,5))\n",
    "for i, column in enumerate(cat_columns_list):\n",
    "    plt.subplot(1,4,i+1)\n",
    "    plt.bar(df_clean.groupby(column)['satisfaction_int'].mean().index,df_clean.groupby(column)['satisfaction_int'].mean())\n",
    "    plt.title('satisfaction rate vs {}'.format(column))\n",
    "    plt.ylim([0,1])\n",
    "    plt.xticks(rotation=90)\n",
    "plt.tight_layout()\n",
    "plt.show()\n"
   ]
  },
  {
   "cell_type": "markdown",
   "id": "576e0a23",
   "metadata": {
    "id": "576e0a23"
   },
   "source": [
    "### Feature engineering"
   ]
  },
  {
   "cell_type": "code",
   "execution_count": 21,
   "id": "61V3mk5BdTaP",
   "metadata": {
    "id": "61V3mk5BdTaP"
   },
   "outputs": [],
   "source": [
    "#pick more categorical variables in method 1\n",
    "#using one-hot encoding to change norminal variables into numeric variables\n",
    "dummy_column_index=[]#list\n",
    "df_clean_1 = df_clean.copy()\n",
    "for i in cat_columns_list:\n",
    "    dummy_column = pd.get_dummies(df_clean[i],drop_first=True)\n",
    "    dummy_column_index = np.append(dummy_column_index,dummy_column.columns)\n",
    "    df_clean_1 = pd.concat([df_clean_1,dummy_column],axis=1)"
   ]
  },
  {
   "cell_type": "code",
   "execution_count": 22,
   "id": "pUV9GN_amlku",
   "metadata": {
    "colab": {
     "base_uri": "https://localhost:8080/"
    },
    "id": "pUV9GN_amlku",
    "outputId": "274d9e74-6420-487c-d17b-e81c78d2ad36"
   },
   "outputs": [
    {
     "data": {
      "text/plain": [
       "array(['Male', 'disloyal Customer', 'Personal Travel', 'Eco', 'Eco Plus'],\n",
       "      dtype=object)"
      ]
     },
     "execution_count": 22,
     "metadata": {},
     "output_type": "execute_result"
    }
   ],
   "source": [
    "dummy_column_index"
   ]
  },
  {
   "cell_type": "code",
   "execution_count": 23,
   "id": "5abf6e13",
   "metadata": {
    "colab": {
     "base_uri": "https://localhost:8080/"
    },
    "id": "5abf6e13",
    "outputId": "42f3faa3-e87c-4505-a035-8a1d9829fe21",
    "scrolled": true
   },
   "outputs": [
    {
     "name": "stdout",
     "output_type": "stream",
     "text": [
      "<class 'pandas.core.frame.DataFrame'>\n",
      "Int64Index: 129487 entries, 0 to 129879\n",
      "Data columns (total 28 columns):\n",
      " #   Column                             Non-Null Count   Dtype  \n",
      "---  ------                             --------------   -----  \n",
      " 0   Gender                             129487 non-null  object \n",
      " 1   customer_type                      129487 non-null  object \n",
      " 2   age                                129487 non-null  int64  \n",
      " 3   type_of_travel                     129487 non-null  object \n",
      " 4   customer_class                     129487 non-null  object \n",
      " 5   flight_distance                    129487 non-null  int64  \n",
      " 6   inflight_wifi_service              129487 non-null  int64  \n",
      " 7   departure_arrival_time_convenient  129487 non-null  int64  \n",
      " 8   ease_of_online_booking             129487 non-null  int64  \n",
      " 9   gate_location                      129487 non-null  int64  \n",
      " 10  food_and_drink                     129487 non-null  int64  \n",
      " 11  online_boarding                    129487 non-null  int64  \n",
      " 12  seat_comfort                       129487 non-null  int64  \n",
      " 13  inflight_entertainment             129487 non-null  int64  \n",
      " 14  onboard_service                    129487 non-null  int64  \n",
      " 15  leg_room_service                   129487 non-null  int64  \n",
      " 16  baggage_handling                   129487 non-null  int64  \n",
      " 17  checkin_service                    129487 non-null  int64  \n",
      " 18  inflight_service                   129487 non-null  int64  \n",
      " 19  cleanliness                        129487 non-null  int64  \n",
      " 20  departure_delay_in_minutes         129487 non-null  int64  \n",
      " 21  arrival_delay_in_minutes           129487 non-null  float64\n",
      " 22  satisfaction_int                   129487 non-null  float64\n",
      " 23  Male                               129487 non-null  uint8  \n",
      " 24  disloyal Customer                  129487 non-null  uint8  \n",
      " 25  Personal Travel                    129487 non-null  uint8  \n",
      " 26  Eco                                129487 non-null  uint8  \n",
      " 27  Eco Plus                           129487 non-null  uint8  \n",
      "dtypes: float64(2), int64(17), object(4), uint8(5)\n",
      "memory usage: 24.3+ MB\n"
     ]
    }
   ],
   "source": [
    "df_clean_1.info()"
   ]
  },
  {
   "cell_type": "code",
   "execution_count": 24,
   "id": "9CbHOi4vfS0M",
   "metadata": {
    "id": "9CbHOi4vfS0M"
   },
   "outputs": [],
   "source": [
    "#pick categorical get_dummies() columns with bigger effect on satisfaction_int.\n",
    "pik_dummy_columns = ['disloyal Customer', 'Personal Travel', 'Eco', 'Eco Plus']"
   ]
  },
  {
   "cell_type": "code",
   "execution_count": 25,
   "id": "f3e661ab",
   "metadata": {
    "id": "f3e661ab"
   },
   "outputs": [],
   "source": [
    "X = df_clean_1[pik_num_columns + pik_dummy_columns]\n",
    "Y = df_clean_1['satisfaction_int']\n",
    "X_train,X_test,Y_train,Y_test = train_test_split(X,Y,test_size=0.2,random_state=42)"
   ]
  },
  {
   "cell_type": "code",
   "execution_count": 26,
   "id": "105d33f4",
   "metadata": {
    "id": "105d33f4"
   },
   "outputs": [],
   "source": [
    "#for KNN method, features need scaling\n",
    "X_sc = StandardScaler().fit_transform(X)\n",
    "X_sc_train,X_sc_test,Y_sc_train,Y_sc_test = train_test_split(X_sc,Y,test_size=0.2,random_state=42)"
   ]
  },
  {
   "cell_type": "markdown",
   "id": "2dd827dd",
   "metadata": {
    "id": "2dd827dd"
   },
   "source": [
    "### Build three classification models including Random Forest, Gradient Boosting and KNN, including some hyperparameters tuning."
   ]
  },
  {
   "cell_type": "markdown",
   "id": "81ea8a9c",
   "metadata": {
    "id": "81ea8a9c"
   },
   "source": [
    "### Random Forest"
   ]
  },
  {
   "cell_type": "markdown",
   "id": "3ca3e323",
   "metadata": {
    "id": "3ca3e323"
   },
   "source": [
    "### Random Forest-max_depth tuning"
   ]
  },
  {
   "cell_type": "code",
   "execution_count": null,
   "id": "6f4159ae",
   "metadata": {
    "id": "6f4159ae"
   },
   "outputs": [],
   "source": [
    "#https://towardsdatascience.com/hyperparameter-tuning-the-random-forest-in-python-using-scikit-learn-28d2aa77dd74\n",
    "score_depth = np.zeros(7)\n",
    "max_depth_list = [2, 5, 20, 50, 80, 100, None]\n",
    "for i in range(7):\n",
    "    clf = RandomForestClassifier(n_estimators=500, max_depth=max_depth_list[i])\n",
    "    clf.fit(X_train,Y_train)\n",
    "    score_depth[i] = clf.score(X_test,Y_test)"
   ]
  },
  {
   "cell_type": "code",
   "execution_count": 28,
   "id": "10ab339f",
   "metadata": {
    "colab": {
     "base_uri": "https://localhost:8080/",
     "height": 331
    },
    "id": "10ab339f",
    "outputId": "9be93e03-4a82-403c-80a4-d2f76574dbcf",
    "scrolled": true
   },
   "outputs": [
    {
     "name": "stdout",
     "output_type": "stream",
     "text": [
      "Accuracy with max_depth =  [2, 5, 20, 50, 80, 100, None]: [0.86087729 0.88682524 0.9122326  0.90327438 0.9027338  0.90339022\n",
      " 0.90281103]\n"
     ]
    },
    {
     "data": {
      "image/png": "[encoded data removed]",
      "text/plain": [
       "<Figure size 432x288 with 1 Axes>"
      ]
     },
     "metadata": {
      "needs_background": "light"
     },
     "output_type": "display_data"
    }
   ],
   "source": [
    "print('Accuracy with max_depth =  [2, 5, 20, 50, 80, 100, None]:',score_depth)\n",
    "fig = plt.figure()\n",
    "plt.plot(max_depth_list,score_depth,'-o')\n",
    "plt.title('Accuracy of Random Forest Model vs Max_depth')\n",
    "plt.xlabel('Max_depth')\n",
    "plt.ylabel('Accuracy')\n",
    "plt.show()"
   ]
  },
  {
   "cell_type": "markdown",
   "id": "17acbe53",
   "metadata": {
    "id": "17acbe53"
   },
   "source": [
    "### Random Forest-max_features tuning"
   ]
  },
  {
   "cell_type": "code",
   "execution_count": 29,
   "id": "56d70def",
   "metadata": {
    "id": "56d70def"
   },
   "outputs": [],
   "source": [
    "score_features = np.zeros(6)\n",
    "max_features_list = [2, 4, 6, 8, 11, None]\n",
    "for i in range(6):\n",
    "    clf = RandomForestClassifier(n_estimators=500, max_features=max_features_list[i])\n",
    "    clf.fit(X_train,Y_train)\n",
    "    score_features[i] = clf.score(X_test,Y_test)"
   ]
  },
  {
   "cell_type": "code",
   "execution_count": 30,
   "id": "05d39756",
   "metadata": {
    "colab": {
     "base_uri": "https://localhost:8080/",
     "height": 313
    },
    "id": "05d39756",
    "outputId": "d3fbfe91-2a88-416b-c3dd-5e43af8c563e"
   },
   "outputs": [
    {
     "name": "stdout",
     "output_type": "stream",
     "text": [
      "Accuracy with max_features = [2, 4, 6, 8, 11, None]: [0.90176848 0.90485752 0.90644065 0.90690401 0.90640204 0.90640204]\n"
     ]
    },
    {
     "data": {
      "image/png": "[encoded data removed]",
      "text/plain": [
       "<Figure size 432x288 with 1 Axes>"
      ]
     },
     "metadata": {
      "needs_background": "light"
     },
     "output_type": "display_data"
    }
   ],
   "source": [
    "print('Accuracy with max_features = [2, 4, 6, 8, 11, None]:',score_features)\n",
    "fig = plt.figure()\n",
    "plt.plot(max_features_list,score_features,'-o')\n",
    "plt.title('Accuracyof Random Forest Model vs Max_features')\n",
    "plt.xlabel('Max_features')\n",
    "plt.ylabel('Accuracy')\n",
    "plt.show()"
   ]
  },
  {
   "cell_type": "markdown",
   "id": "fdc2caa7",
   "metadata": {
    "id": "fdc2caa7"
   },
   "source": [
    "### Random Forest-GridSearchCV parameter"
   ]
  },
  {
   "cell_type": "code",
   "execution_count": 31,
   "id": "7fb0a4e1",
   "metadata": {
    "colab": {
     "base_uri": "https://localhost:8080/"
    },
    "id": "7fb0a4e1",
    "outputId": "43ca61d8-855e-4d2c-8ad5-2a6c4f19dfb7"
   },
   "outputs": [
    {
     "name": "stderr",
     "output_type": "stream",
     "text": [
      "/usr/local/lib/python3.7/dist-packages/joblib/externals/loky/process_executor.py:705: UserWarning: A worker stopped while some jobs were given to the executor. This can be caused by a too short worker timeout or by a memory leak.\n",
      "  \"timeout or by a memory leak.\", UserWarning\n"
     ]
    },
    {
     "data": {
      "text/plain": [
       "GridSearchCV(cv=5, estimator=RandomForestClassifier(), n_jobs=-1,\n",
       "             param_grid={'max_depth': [15, 20, 25], 'max_features': [7, 8, 9],\n",
       "                         'n_estimators': [100, 500]})"
      ]
     },
     "execution_count": 31,
     "metadata": {},
     "output_type": "execute_result"
    }
   ],
   "source": [
    "#https://www.projectpro.io/recipes/find-optimal-parameters-using-gridsearchcv\n",
    "#https://towardsdatascience.com/hyperparameter-tuning-the-random-forest-in-python-using-scikit-learn-28d2aa77dd74\n",
    "parameters_rf = {'max_depth': [15, 20, 25],\n",
    "                 'max_features': [7, 8, 9],\n",
    "                 'n_estimators': [100, 500]\n",
    "                }\n",
    "rf_grid = GridSearchCV(RandomForestClassifier(), parameters_rf, n_jobs=-1,cv=5)\n",
    "#GridSearchCV does cross validation\n",
    "#https://stackoverflow.com/questions/49160206/does-gridsearchcv-perform-cross-validation#:~:text=Yes%2C%20GridSearchCV%20performs%20cross%2Dvalidation,on%20a%20testing%20data%20set.\n",
    "rf_grid.fit(X_train,Y_train)"
   ]
  },
  {
   "cell_type": "code",
   "execution_count": 32,
   "id": "ecff5279",
   "metadata": {
    "colab": {
     "base_uri": "https://localhost:8080/"
    },
    "id": "ecff5279",
    "outputId": "082b84c7-f16e-40e7-8bdc-89ca493be793"
   },
   "outputs": [
    {
     "name": "stdout",
     "output_type": "stream",
     "text": [
      " Random Forest results from GridSearchCV: \n",
      "\n",
      " The best estimator across ALL searched params:\n",
      " RandomForestClassifier(max_depth=15, max_features=8, n_estimators=500)\n",
      "\n",
      " The best score across ALL searched params:\n",
      " 0.9192675035539197\n",
      "\n",
      " The best parameters across ALL searched params:\n",
      " {'max_depth': 15, 'max_features': 8, 'n_estimators': 500}\n"
     ]
    }
   ],
   "source": [
    "print(\" Random Forest results from GridSearchCV: \" )\n",
    "print(\"\\n The best estimator across ALL searched params:\\n\",rf_grid.best_estimator_)\n",
    "print(\"\\n The best score across ALL searched params:\\n\",rf_grid.best_score_)\n",
    "print(\"\\n The best parameters across ALL searched params:\\n\",rf_grid.best_params_)"
   ]
  },
  {
   "cell_type": "code",
   "execution_count": 33,
   "id": "LszXoVyM23RQ",
   "metadata": {
    "colab": {
     "base_uri": "https://localhost:8080/"
    },
    "id": "LszXoVyM23RQ",
    "outputId": "3090eceb-0e0f-449c-b47a-050b3e369913"
   },
   "outputs": [
    {
     "name": "stdout",
     "output_type": "stream",
     "text": [
      "Accuracy of Random Forest classifier using parameter from GridSearchCV is: 0.9185651401652637\n"
     ]
    }
   ],
   "source": [
    "#using the best parameter from GridSearchCV to fit the test data\n",
    "rfc_grid_best =  RandomForestClassifier(max_depth= 15, max_features=7, n_estimators=500)\n",
    "rfc_grid_best.fit(X_train,Y_train)\n",
    "score_rfc_grid_best = rfc_grid_best.score(X_test,Y_test)\n",
    "print('Accuracy of Random Forest classifier using parameter from GridSearchCV is:',score_rfc_grid_best)"
   ]
  },
  {
   "cell_type": "code",
   "execution_count": 34,
   "id": "NNVQyavrB4qu",
   "metadata": {
    "colab": {
     "base_uri": "https://localhost:8080/"
    },
    "id": "NNVQyavrB4qu",
    "outputId": "8b5b6567-b4a7-4da6-f371-c83d34537b5a"
   },
   "outputs": [
    {
     "name": "stdout",
     "output_type": "stream",
     "text": [
      "Accuracy of Random Forest classifier using best parameters is: 0.9182948490230906\n",
      "Randomn Forest classifier time elapsed: 79.72 seconds.\n"
     ]
    }
   ],
   "source": [
    "#check the best run across all tested parameters of Random Forest\n",
    "start_RF = time.time()\n",
    "rfc_best =  RandomForestClassifier(max_depth= 15, max_features=7, n_estimators=500)\n",
    "rfc_best.fit(X_train,Y_train)\n",
    "score_rfc_best = rfc_best.score(X_test,Y_test)\n",
    "print('Accuracy of Random Forest classifier using best parameters is:',score_rfc_best)\n",
    "print(f'Randomn Forest classifier time elapsed: {round(time.time() - start_RF, 2)} seconds.')"
   ]
  },
  {
   "cell_type": "code",
   "execution_count": 35,
   "id": "rbbrz7pfm02n",
   "metadata": {
    "colab": {
     "base_uri": "https://localhost:8080/"
    },
    "id": "rbbrz7pfm02n",
    "outputId": "2b9592fc-2634-49e2-99b9-54de05c22171"
   },
   "outputs": [
    {
     "name": "stdout",
     "output_type": "stream",
     "text": [
      "For Random Forest classifier using the 5 most important features:\n",
      "\n",
      "Accuracy score: 0.92\n",
      "Precision score: 0.92\n",
      "Recall score: 0.89\n",
      "F1 score: 0.90\n"
     ]
    }
   ],
   "source": [
    "#best run of random forest\n",
    "predictions_rfc = rfc_best.predict(X_test)\n",
    "accuracy = accuracy_score(Y_test, predictions_rfc)\n",
    "precision = precision_score(Y_test, predictions_rfc)\n",
    "recall = recall_score(Y_test, predictions_rfc)\n",
    "f1 = f1_score(Y_test, predictions_rfc)\n",
    "print('For Random Forest classifier using the 5 most important features:\\n')\n",
    "print('Accuracy score: {:.2f}'.format(accuracy))\n",
    "print('Precision score: {:.2f}'.format(precision))\n",
    "print('Recall score: {:.2f}'.format(recall))\n",
    "print('F1 score: {:.2f}'.format(f1))"
   ]
  },
  {
   "cell_type": "code",
   "execution_count": 36,
   "id": "K2Syi5AypWB-",
   "metadata": {
    "colab": {
     "base_uri": "https://localhost:8080/",
     "height": 282
    },
    "id": "K2Syi5AypWB-",
    "outputId": "d9f7dc4f-87f4-4952-8e5f-93ab5215fa72"
   },
   "outputs": [
    {
     "data": {
      "text/plain": [
       "<matplotlib.axes._subplots.AxesSubplot at 0x7f721f7f9f50>"
      ]
     },
     "execution_count": 36,
     "metadata": {},
     "output_type": "execute_result"
    },
    {
     "data": {
      "image/png": "[encoded data removed]",
      "text/plain": [
       "<Figure size 432x288 with 1 Axes>"
      ]
     },
     "metadata": {
      "needs_background": "light"
     },
     "output_type": "display_data"
    }
   ],
   "source": [
    "feat_importances = pd.Series(rfc_best.feature_importances_, index=X_train.columns)\n",
    "feat_importances.nlargest(10).plot(kind='barh')"
   ]
  },
  {
   "cell_type": "code",
   "execution_count": 37,
   "id": "pLKrvhoYqY0V",
   "metadata": {
    "colab": {
     "base_uri": "https://localhost:8080/"
    },
    "id": "pLKrvhoYqY0V",
    "outputId": "6e07df72-dbd9-409e-fd59-bdc5c9f957ea"
   },
   "outputs": [
    {
     "data": {
      "text/plain": [
       "Index(['online_boarding', 'Personal Travel', 'inflight_entertainment', 'Eco',\n",
       "       'flight_distance'],\n",
       "      dtype='object')"
      ]
     },
     "execution_count": 37,
     "metadata": {},
     "output_type": "execute_result"
    }
   ],
   "source": [
    "#pick 5 most important factors for the random forest model \n",
    "feat_importances.nlargest(5).index"
   ]
  },
  {
   "cell_type": "code",
   "execution_count": 38,
   "id": "VTDm8f1frHU2",
   "metadata": {
    "id": "VTDm8f1frHU2"
   },
   "outputs": [],
   "source": [
    "X_RF = df_clean_1[feat_importances.nlargest(5).index]\n",
    "X_RF_train,X_RF_test,Y_RF_train,Y_RF_test = train_test_split(X_RF,Y,test_size=0.2,random_state=42)"
   ]
  },
  {
   "cell_type": "code",
   "execution_count": 39,
   "id": "30m50NrB30iC",
   "metadata": {
    "colab": {
     "base_uri": "https://localhost:8080/"
    },
    "id": "30m50NrB30iC",
    "outputId": "6cb7cdd4-3ceb-47b1-c54f-64d5632300e4"
   },
   "outputs": [
    {
     "name": "stdout",
     "output_type": "stream",
     "text": [
      "Accuracy of Random Forest classifier using the 5 most important features is: 0.8689087960460267\n",
      "Randomn Forest classifier with the 5 most important feature time elapsed: 48.47 seconds.\n"
     ]
    }
   ],
   "source": [
    "start_RF_5 = time.time()\n",
    "rfc_best_5 =  RandomForestClassifier(max_depth= 15, n_estimators=500)\n",
    "rfc_best_5.fit(X_RF_train,Y_RF_train)\n",
    "score_rfc_5 = rfc_best_5.score(X_RF_test,Y_RF_test)\n",
    "print('Accuracy of Random Forest classifier using the 5 most important features is:',score_rfc_5)\n",
    "print(f'Randomn Forest classifier with the 5 most important feature time elapsed: {round(time.time() - start_RF_5, 2)} seconds.')"
   ]
  },
  {
   "cell_type": "code",
   "execution_count": 40,
   "id": "YTEstC4VjkH3",
   "metadata": {
    "colab": {
     "base_uri": "https://localhost:8080/"
    },
    "id": "YTEstC4VjkH3",
    "outputId": "6aea8525-1ed8-4963-efaf-fa5d75ea3447"
   },
   "outputs": [
    {
     "name": "stdout",
     "output_type": "stream",
     "text": [
      "For Random Forest classifier using the 5 most important features:\n",
      "\n",
      "Accuracy score: 0.87\n",
      "Precision score: 0.87\n",
      "Recall score: 0.82\n",
      "F1 score: 0.84\n"
     ]
    }
   ],
   "source": [
    "#run with 5 important features\n",
    "predictions_rfc_5 = rfc_best_5.predict(X_RF_test)\n",
    "accuracy = accuracy_score(Y_RF_test, predictions_rfc_5)\n",
    "precision = precision_score(Y_RF_test, predictions_rfc_5)\n",
    "recall = recall_score(Y_RF_test, predictions_rfc_5)\n",
    "f1 = f1_score(Y_RF_test, predictions_rfc_5)\n",
    "print('For Random Forest classifier using the 5 most important features:\\n')\n",
    "print('Accuracy score: {:.2f}'.format(accuracy))\n",
    "print('Precision score: {:.2f}'.format(precision))\n",
    "print('Recall score: {:.2f}'.format(recall))\n",
    "print('F1 score: {:.2f}'.format(f1))"
   ]
  },
  {
   "cell_type": "markdown",
   "id": "1da135e5",
   "metadata": {
    "id": "1da135e5"
   },
   "source": [
    "### Random Forest Model can achieve best accuracy at 92% using 79.72s, if choosing to use the 5 most important factors for prediction, can get the accuracy of 87% using 48.47s."
   ]
  },
  {
   "cell_type": "markdown",
   "id": "142b094a",
   "metadata": {
    "id": "142b094a"
   },
   "source": [
    "### Gradient Boosting Model"
   ]
  },
  {
   "cell_type": "markdown",
   "id": "1688524d",
   "metadata": {
    "id": "1688524d"
   },
   "source": [
    "### Gradient Boosting Model-max_depth tuning"
   ]
  },
  {
   "cell_type": "code",
   "execution_count": 41,
   "id": "161cc7fd",
   "metadata": {
    "id": "161cc7fd"
   },
   "outputs": [],
   "source": [
    "score_depth = np.zeros(7)\n",
    "max_depth_list = [2, 3, 5, 7, 20, 50, None]\n",
    "for i in range(7):\n",
    "    clf = GradientBoostingClassifier(n_estimators=500, max_depth=max_depth_list[i])\n",
    "    clf.fit(X_train,Y_train)\n",
    "    score_depth[i] = clf.score(X_test,Y_test)"
   ]
  },
  {
   "cell_type": "code",
   "execution_count": 42,
   "id": "2a14d42e",
   "metadata": {
    "colab": {
     "base_uri": "https://localhost:8080/",
     "height": 331
    },
    "id": "2a14d42e",
    "outputId": "f19f430d-35bd-4771-d1c0-5f96c7c7630b"
   },
   "outputs": [
    {
     "name": "stdout",
     "output_type": "stream",
     "text": [
      "Accuracy with max_depth =  [2, 3, 5, 7, 20, 50, None]: [0.90497336 0.91234844 0.91694339 0.91651865 0.90296548 0.88979844\n",
      " 0.88941231]\n"
     ]
    },
    {
     "data": {
      "image/png": "[encoded data removed]",
      "text/plain": [
       "<Figure size 432x288 with 1 Axes>"
      ]
     },
     "metadata": {
      "needs_background": "light"
     },
     "output_type": "display_data"
    }
   ],
   "source": [
    "print('Accuracy with max_depth =  [2, 3, 5, 7, 20, 50, None]:',score_depth)\n",
    "fig = plt.figure()\n",
    "plt.plot(max_depth_list,score_depth,'-o')\n",
    "plt.title('Accuracy of  Gradient Boosting Model vs Max_depth')\n",
    "plt.xlabel('Max_depth')\n",
    "plt.ylabel('Accuracy')\n",
    "plt.show()"
   ]
  },
  {
   "cell_type": "markdown",
   "id": "7a6d3ad3",
   "metadata": {
    "id": "7a6d3ad3"
   },
   "source": [
    "### Gradient Boosting Model-learning_rate tuning"
   ]
  },
  {
   "cell_type": "code",
   "execution_count": 43,
   "id": "36f69e3c",
   "metadata": {
    "id": "36f69e3c"
   },
   "outputs": [],
   "source": [
    "score_learning = np.zeros(6)\n",
    "learning_rate_list = [0.001,0.005,0.01,0.1,0.5,1]\n",
    "for i in range(6):\n",
    "    clf = GradientBoostingClassifier(n_estimators=500, learning_rate=learning_rate_list[i])\n",
    "    clf.fit(X_train,Y_train)\n",
    "    score_learning[i] = clf.score(X_test,Y_test)"
   ]
  },
  {
   "cell_type": "code",
   "execution_count": 44,
   "id": "1479bf6a",
   "metadata": {
    "colab": {
     "base_uri": "https://localhost:8080/",
     "height": 313
    },
    "id": "1479bf6a",
    "outputId": "b60c50ad-3897-4b5c-ee65-4378042693b8"
   },
   "outputs": [
    {
     "name": "stdout",
     "output_type": "stream",
     "text": [
      "Accuracy with learning_rate = [0.001,0.005,0.01,0.1,0.5,1]: [0.84512318 0.89300332 0.89752104 0.91234844 0.91508997 0.91138312]\n"
     ]
    },
    {
     "data": {
      "image/png": "[encoded data removed]",
      "text/plain": [
       "<Figure size 432x288 with 1 Axes>"
      ]
     },
     "metadata": {
      "needs_background": "light"
     },
     "output_type": "display_data"
    }
   ],
   "source": [
    "print('Accuracy with learning_rate = [0.001,0.005,0.01,0.1,0.5,1]:',score_learning)\n",
    "fig = plt.figure()\n",
    "plt.plot(learning_rate_list,score_learning,'-o')\n",
    "plt.title('Accuracy of  Gradient Boosting Model vs Max_depth')\n",
    "plt.xlabel('Learning_rate')\n",
    "plt.ylabel('Accuracy')\n",
    "plt.show()"
   ]
  },
  {
   "cell_type": "markdown",
   "id": "3501b8d9",
   "metadata": {
    "id": "3501b8d9"
   },
   "source": [
    "### Gradient Boosting Model- using selected parameters"
   ]
  },
  {
   "cell_type": "code",
   "execution_count": 45,
   "id": "c8ddb4c3",
   "metadata": {
    "colab": {
     "base_uri": "https://localhost:8080/"
    },
    "id": "c8ddb4c3",
    "outputId": "977ba53b-8833-49c7-c87d-7bba8190a519"
   },
   "outputs": [
    {
     "name": "stdout",
     "output_type": "stream",
     "text": [
      "Accuracy of Gradient Boosting Classifier using best parameters is: 0.9110742142250366\n"
     ]
    }
   ],
   "source": [
    "gb_grid_best =  GradientBoostingClassifier(max_depth= 5, n_estimators=500, learning_rate=0.5)\n",
    "gb_grid_best.fit(X_train,Y_train)\n",
    "score_gb_grid_best = gb_grid_best.score(X_test,Y_test)\n",
    "print('Accuracy of Gradient Boosting Classifier using best parameters is:',score_gb_grid_best)"
   ]
  },
  {
   "cell_type": "code",
   "execution_count": 46,
   "id": "DonHdqLNDLS9",
   "metadata": {
    "colab": {
     "base_uri": "https://localhost:8080/"
    },
    "id": "DonHdqLNDLS9",
    "outputId": "29a8cf92-b638-4cef-b517-1e2fbf8111ce"
   },
   "outputs": [
    {
     "name": "stdout",
     "output_type": "stream",
     "text": [
      "Accuracy of Gradient Boosting model using selected parameters is: 0.9169820063325353\n",
      "Gradient Boosting Model time elapsed: 76.32 seconds.\n"
     ]
    }
   ],
   "source": [
    "#check the best run of Gradient Boosting\n",
    "start_GB = time.time()\n",
    "gb_best =  GradientBoostingClassifier(max_depth= 5, n_estimators=500)\n",
    "gb_best.fit(X_train,Y_train)\n",
    "score_gb_best = gb_best.score(X_test,Y_test)\n",
    "print('Accuracy of Gradient Boosting model using selected parameters is:',score_gb_best)\n",
    "print(f'Gradient Boosting Model time elapsed: {round(time.time() - start_GB, 2)} seconds.')"
   ]
  },
  {
   "cell_type": "code",
   "execution_count": 47,
   "id": "-n0hqePxlCZ8",
   "metadata": {
    "colab": {
     "base_uri": "https://localhost:8080/"
    },
    "id": "-n0hqePxlCZ8",
    "outputId": "81ac2698-64e7-4c77-cefa-89de626d93d3"
   },
   "outputs": [
    {
     "name": "stdout",
     "output_type": "stream",
     "text": [
      "For gradient boosting:\n",
      "\n",
      "Accuracy score: 0.92\n",
      "Precision score: 0.92\n",
      "Recall score: 0.89\n",
      "F1 score: 0.90\n"
     ]
    }
   ],
   "source": [
    "#best run of gradient boosting\n",
    "predictions_gb = gb_best.predict(X_test)\n",
    "accuracy = accuracy_score(Y_test, predictions_gb)\n",
    "precision = precision_score(Y_test, predictions_gb)\n",
    "recall = recall_score(Y_test, predictions_gb)\n",
    "f1 = f1_score(Y_test, predictions_gb)\n",
    "print('For gradient boosting:\\n')\n",
    "print('Accuracy score: {:.2f}'.format(accuracy))\n",
    "print('Precision score: {:.2f}'.format(precision))\n",
    "print('Recall score: {:.2f}'.format(recall))\n",
    "print('F1 score: {:.2f}'.format(f1))"
   ]
  },
  {
   "cell_type": "markdown",
   "id": "aff783b3",
   "metadata": {
    "id": "aff783b3"
   },
   "source": [
    "### Gradient Boosting Model can achieve best accurracy at 92% using 76.32s."
   ]
  },
  {
   "cell_type": "markdown",
   "id": "30fa2ec4",
   "metadata": {
    "id": "30fa2ec4"
   },
   "source": [
    "### KNN"
   ]
  },
  {
   "cell_type": "code",
   "execution_count": 48,
   "id": "bd0c0893",
   "metadata": {
    "colab": {
     "base_uri": "https://localhost:8080/"
    },
    "id": "bd0c0893",
    "outputId": "addd9c93-72d7-4803-ec46-b3a0c759acd7"
   },
   "outputs": [
    {
     "name": "stdout",
     "output_type": "stream",
     "text": [
      "Accuracy of KNN (unnormalized features) is: 0.8433469766005097\n"
     ]
    }
   ],
   "source": [
    "#using untreated features\n",
    "# for knn,target variable not necessary to be numeric\n",
    "knn = KNeighborsClassifier(n_neighbors=5, weights='distance')\n",
    "knn.fit(X_train, Y_train)\n",
    "score_knn = knn.score(X_test,Y_test)\n",
    "print('Accuracy of KNN (unnormalized features) is:',score_knn)"
   ]
  },
  {
   "cell_type": "code",
   "execution_count": 49,
   "id": "821859d4",
   "metadata": {
    "colab": {
     "base_uri": "https://localhost:8080/"
    },
    "id": "821859d4",
    "outputId": "510fe159-499f-4378-ed40-a9e5e1688d1e"
   },
   "outputs": [
    {
     "name": "stdout",
     "output_type": "stream",
     "text": [
      "Accuracy of KNN (scaled features) is: 0.895435940999305\n"
     ]
    }
   ],
   "source": [
    "#using standarscaler treating features\n",
    "knn.fit(X_sc_train, Y_sc_train)\n",
    "score_knn_sc = knn.score(X_sc_test, Y_sc_test)\n",
    "print('Accuracy of KNN (scaled features) is:',score_knn_sc)"
   ]
  },
  {
   "cell_type": "markdown",
   "id": "e968b625",
   "metadata": {
    "id": "e968b625"
   },
   "source": [
    "### KNN-n_neighbors tuning-stardardscaler"
   ]
  },
  {
   "cell_type": "code",
   "execution_count": 50,
   "id": "e85ba87e",
   "metadata": {
    "id": "e85ba87e"
   },
   "outputs": [],
   "source": [
    "score_n_neighbors = np.zeros(8)\n",
    "n_neighbors_list = [2, 3, 5, 7, 15, 30, 50, 100]\n",
    "for i in range(8):\n",
    "    clf = KNeighborsClassifier(n_neighbors=n_neighbors_list[i],weights='distance') \n",
    "    clf.fit(X_sc_train,Y_sc_train)\n",
    "    score_n_neighbors[i] = clf.score(X_sc_test,Y_sc_test)"
   ]
  },
  {
   "cell_type": "code",
   "execution_count": 51,
   "id": "7e5ccd3f",
   "metadata": {
    "colab": {
     "base_uri": "https://localhost:8080/",
     "height": 331
    },
    "id": "7e5ccd3f",
    "outputId": "9a5b4cbd-655d-4942-b84f-cf5cbeb7d03a",
    "scrolled": true
   },
   "outputs": [
    {
     "name": "stdout",
     "output_type": "stream",
     "text": [
      "Accuracy with n_neighbors_list = [2, 3, 5, 7, 15, 30, 50, 100]: [0.88485597 0.89215383 0.89543594 0.8958993  0.89864082 0.89922002\n",
      " 0.89941308 0.89821608]\n"
     ]
    },
    {
     "data": {
      "image/png": "[encoded data removed]",
      "text/plain": [
       "<Figure size 432x288 with 1 Axes>"
      ]
     },
     "metadata": {
      "needs_background": "light"
     },
     "output_type": "display_data"
    }
   ],
   "source": [
    "print('Accuracy with n_neighbors_list = [2, 3, 5, 7, 15, 30, 50, 100]:',score_n_neighbors)\n",
    "fig = plt.figure()\n",
    "plt.plot(n_neighbors_list,score_n_neighbors,'-o')\n",
    "plt.title('Accuracy of KNN (standardscaler) vs n_neighbors')\n",
    "plt.xlabel('n_neighbors')\n",
    "plt.ylabel('Accuracy')\n",
    "plt.show()"
   ]
  },
  {
   "cell_type": "code",
   "execution_count": 52,
   "id": "uzEYHQwAFcTA",
   "metadata": {
    "colab": {
     "base_uri": "https://localhost:8080/"
    },
    "id": "uzEYHQwAFcTA",
    "outputId": "a83fec57-ee29-4363-cedb-a024ad3bc3b2"
   },
   "outputs": [
    {
     "name": "stdout",
     "output_type": "stream",
     "text": [
      "Accuracy of KNN classifier using best parameter is: 0.8994130820912812\n",
      "KNN classification time elapsed: 10.71 seconds.\n"
     ]
    }
   ],
   "source": [
    "#check the best run of KNN\n",
    "start_KNN = time.time()\n",
    "knn_best = KNeighborsClassifier(n_neighbors=50,weights='distance')\n",
    "knn_best.fit(X_sc_train,Y_sc_train)\n",
    "score_knn_best = knn_best.score(X_sc_test,Y_sc_test)\n",
    "print('Accuracy of KNN classifier using best parameter is:',score_knn_best)\n",
    "print(f'KNN classification time elapsed: {round(time.time() - start_KNN, 2)} seconds.')"
   ]
  },
  {
   "cell_type": "code",
   "execution_count": 53,
   "id": "ynrKwimJj0fN",
   "metadata": {
    "colab": {
     "base_uri": "https://localhost:8080/"
    },
    "id": "ynrKwimJj0fN",
    "outputId": "3acf6c8d-bf40-4e60-87c3-1a2e273b1ec6"
   },
   "outputs": [
    {
     "name": "stdout",
     "output_type": "stream",
     "text": [
      "For KNN:\n",
      "\n",
      "Accuracy score: 0.90\n",
      "Precision score: 0.91\n",
      "Recall score: 0.85\n",
      "F1 score: 0.88\n"
     ]
    }
   ],
   "source": [
    "#best run of KNN\n",
    "predictions_knn = knn_best.predict(X_sc_test)\n",
    "accuracy = accuracy_score(Y_sc_test, predictions_knn)\n",
    "precision = precision_score(Y_sc_test, predictions_knn)\n",
    "recall = recall_score(Y_sc_test, predictions_knn)\n",
    "f1 = f1_score(Y_sc_test, predictions_knn)\n",
    "print('For KNN:\\n')\n",
    "print('Accuracy score: {:.2f}'.format(accuracy))\n",
    "print('Precision score: {:.2f}'.format(precision))\n",
    "print('Recall score: {:.2f}'.format(recall))\n",
    "print('F1 score: {:.2f}'.format(f1))"
   ]
  },
  {
   "cell_type": "markdown",
   "id": "63e9a11d",
   "metadata": {
    "id": "63e9a11d"
   },
   "source": [
    "### KNN Model can achieve best accuracy at 90% using 10.71s."
   ]
  },
  {
   "cell_type": "markdown",
   "id": "f166799d",
   "metadata": {
    "id": "f166799d"
   },
   "source": [
    "### Summary: Random Forest and Gradient Boosting model can achieve similar accuracy around 91.80% and 91.69%, while KNN achieve lower accuracy as 89.94%. KNN classification method needs feature scaling. Comparing the time used for running the model, KNN uses shortest running time 12.38s, Random Forest and Gradient Boosting model use simlilar running time, 74.05s and 72.5s. For Random Forest model, if I use the 5 most important factors in the model, the accuracy changes to 86.93% and running time drops to 45.84s.Therefore, for predicting this airline passengers satisfaction dataset, I choose to use Random Forest model if I want to achieve better accuray, use KNN if I want to use less running time."
   ]
  }
 ],
 "metadata": {
  "colab": {
   "collapsed_sections": [],
   "name": " Satisfaction_Prediction_submission2_accuracy_precison_recall_f1.ipynb",
   "provenance": []
  },
  "kernelspec": {
   "display_name": "Python 3 (ipykernel)",
   "language": "python",
   "name": "python3"
  },
  "language_info": {
   "codemirror_mode": {
    "name": "ipython",
    "version": 3
   },
   "file_extension": ".py",
   "mimetype": "text/x-python",
   "name": "python",
   "nbconvert_exporter": "python",
   "pygments_lexer": "ipython3",
   "version": "3.9.12"
  }
 },
 "nbformat": 4,
 "nbformat_minor": 5
}
